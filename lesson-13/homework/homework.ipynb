{
 "cells": [
  {
   "cell_type": "code",
   "execution_count": 11,
   "metadata": {},
   "outputs": [],
   "source": [
    "# task1\n",
    "import random\n",
    "import numpy as np\n",
    "\n",
    "vector1=np.arange(10,49,1)\n",
    "\n"
   ]
  },
  {
   "cell_type": "code",
   "execution_count": 12,
   "metadata": {},
   "outputs": [
    {
     "name": "stdout",
     "output_type": "stream",
     "text": [
      "[[0 1 2]\n",
      " [3 4 5]\n",
      " [6 7 8]]\n"
     ]
    }
   ],
   "source": [
    "# task2\n",
    "\n",
    "matrix1=np.arange(0,9).reshape(3,3)\n",
    "print(matrix1)\n"
   ]
  },
  {
   "cell_type": "code",
   "execution_count": null,
   "metadata": {},
   "outputs": [
    {
     "name": "stdout",
     "output_type": "stream",
     "text": [
      "[[1, 0, 0], [0, 1, 0], [0, 0, 1]]\n"
     ]
    }
   ],
   "source": [
    "# task3\n",
    "l1=[[1 if j==i else 0 for j in range(3)] for i in range(3)]\n",
    "matrix2=np.array(l1)\n",
    "print(l1)"
   ]
  },
  {
   "cell_type": "code",
   "execution_count": 20,
   "metadata": {},
   "outputs": [
    {
     "name": "stdout",
     "output_type": "stream",
     "text": [
      "[[[9 0 2]\n",
      "  [3 0 2]\n",
      "  [6 4 2]]\n",
      "\n",
      " [[7 0 8]\n",
      "  [2 9 0]\n",
      "  [5 7 9]]\n",
      "\n",
      " [[8 9 4]\n",
      "  [1 4 1]\n",
      "  [1 1 1]]]\n"
     ]
    }
   ],
   "source": [
    "# task4\n",
    "l2=[[[random.randint(0,9) for j in range(3)] for i in range(3)] for k in range(3)]\n",
    "matrix3=np.array(l2)\n",
    "print(matrix3)\n"
   ]
  },
  {
   "cell_type": "code",
   "execution_count": 23,
   "metadata": {},
   "outputs": [
    {
     "name": "stdout",
     "output_type": "stream",
     "text": [
      "961\n"
     ]
    }
   ],
   "source": [
    "# task5\n",
    "l3=[[random.randint(1,1000) for j in range(10)] for i in range(10)]\n",
    "matrix4=np.array(l3)\n",
    "maxval1=np.max(matrix4)\n",
    "print(maxval1)"
   ]
  },
  {
   "cell_type": "code",
   "execution_count": 27,
   "metadata": {},
   "outputs": [
    {
     "name": "stdout",
     "output_type": "stream",
     "text": [
      "557.0666666666667\n"
     ]
    }
   ],
   "source": [
    "# task6\n",
    "vector2=np.array(np.random.randint(1,1000,30) )\n",
    "mean_value=np.mean(vector2)\n",
    "print(mean_value)"
   ]
  },
  {
   "cell_type": "code",
   "execution_count": null,
   "metadata": {},
   "outputs": [
    {
     "data": {
      "text/plain": [
       "array([[0.97055731, 0.94847529, 0.06729758, 0.        , 0.09148265],\n",
       "       [0.4595163 , 0.66982124, 0.96004206, 0.04416404, 1.        ],\n",
       "       [0.93059937, 0.51314406, 0.33964248, 0.70031546, 0.8338591 ],\n",
       "       [0.66246057, 0.27970557, 0.02839117, 0.13038906, 0.25341746],\n",
       "       [0.13459516, 0.86014721, 0.3491062 , 0.90325973, 0.49737119]])"
      ]
     },
     "execution_count": 30,
     "metadata": {},
     "output_type": "execute_result"
    }
   ],
   "source": [
    "# task7\n",
    "rand5x5=np.random.randint(1,1000,(5,5))\n",
    "matrix_min = rand5x5.min()\n",
    "matrix_max = rand5x5.max()\n",
    "normalized_matrix = (rand5x5 - matrix_min) / (matrix_max - matrix_min)\n",
    "\n",
    "normalized_matrix"
   ]
  },
  {
   "cell_type": "code",
   "execution_count": 31,
   "metadata": {},
   "outputs": [
    {
     "name": "stdout",
     "output_type": "stream",
     "text": [
      "[[ 582414  924147]\n",
      " [ 347673  749572]\n",
      " [ 598221 1385201]\n",
      " [ 322656  587236]\n",
      " [ 838134 1462171]]\n"
     ]
    }
   ],
   "source": [
    "# task8\n",
    "matrix5=np.random.randint(1,1000,(5,3))\n",
    "matrix6=np.random.randint(1,1000,(3,2))\n",
    "product_matrix = np.dot(matrix5, matrix6)\n",
    "print(product_matrix)"
   ]
  },
  {
   "cell_type": "code",
   "execution_count": 32,
   "metadata": {},
   "outputs": [
    {
     "name": "stdout",
     "output_type": "stream",
     "text": [
      "[[1454845  859764  286416]\n",
      " [ 724065  246488  148062]\n",
      " [ 995790  491854  282246]]\n"
     ]
    }
   ],
   "source": [
    "# task9\n",
    "matrix3=np.random.randint(1,1000,(3,3))\n",
    "matrix4=np.random.randint(1,1000,(3,3))\n",
    "product= np.dot(matrix3, matrix4)\n",
    "print(product)"
   ]
  },
  {
   "cell_type": "code",
   "execution_count": 33,
   "metadata": {},
   "outputs": [
    {
     "name": "stdout",
     "output_type": "stream",
     "text": [
      "[[882 181 681 809]\n",
      " [551 743 975 963]\n",
      " [190  19 562 226]\n",
      " [487 743 765 936]]\n"
     ]
    }
   ],
   "source": [
    "# task10\n",
    "matrix7=np.random.randint(1,1000,(4,4))\n",
    "transpose = np.transpose(matrix7)\n",
    "print(transpose)"
   ]
  },
  {
   "cell_type": "code",
   "execution_count": 36,
   "metadata": {},
   "outputs": [
    {
     "name": "stdout",
     "output_type": "stream",
     "text": [
      "114750434.99999984\n"
     ]
    }
   ],
   "source": [
    "# task11\n",
    "matrix8=np.random.randint(1,1000,(3,3))\n",
    "det= np.linalg.det(matrix8)\n",
    "print(det)"
   ]
  },
  {
   "cell_type": "code",
   "execution_count": 37,
   "metadata": {},
   "outputs": [
    {
     "name": "stdout",
     "output_type": "stream",
     "text": [
      "[[1078757 1405519 1016596]\n",
      " [1141322 1294552  632357]\n",
      " [ 912739  891077  596973]]\n"
     ]
    }
   ],
   "source": [
    "# task12\n",
    "matrixA=np.random.randint(1,1000,(3,4))\n",
    "matrixB=np.random.randint(1,1000,(4,3))\n",
    "matrixC=np.dot(matrixA,matrixB)\n",
    "print(matrixC)"
   ]
  },
  {
   "cell_type": "code",
   "execution_count": 40,
   "metadata": {},
   "outputs": [
    {
     "name": "stdout",
     "output_type": "stream",
     "text": [
      "[[1261163 1114271  668245]]\n"
     ]
    }
   ],
   "source": [
    "# task13\n",
    "matrix9=np.random.randint(1,1000,(3,3))\n",
    "matrix10=np.random.randint(1,1000,(3,1))\n",
    "matrix11=np.dot(matrix10.T,matrix9)\n",
    "print(matrix11)"
   ]
  },
  {
   "cell_type": "code",
   "execution_count": 43,
   "metadata": {},
   "outputs": [
    {
     "name": "stdout",
     "output_type": "stream",
     "text": [
      "[[ 2.6967976 ]\n",
      " [-1.61031333]\n",
      " [ 0.50055065]]\n"
     ]
    }
   ],
   "source": [
    "# task14\n",
    "matrixA=np.random.randint(1,100,(3,3))\n",
    "matrixb=np.random.randint(1,100,(3,1))\n",
    "matrixx=np.linalg.solve(matrixA,matrixb)\n",
    "print(matrixx)"
   ]
  },
  {
   "cell_type": "code",
   "execution_count": 44,
   "metadata": {},
   "outputs": [
    {
     "name": "stdout",
     "output_type": "stream",
     "text": [
      "[[75 20 12 18 15]\n",
      " [18 67 89 91 57]\n",
      " [86 75 82 33 21]\n",
      " [10 61 73 81 70]\n",
      " [10 30 73 79 79]] [140 322 297 295 271] [199 253 329 302 242]\n"
     ]
    }
   ],
   "source": [
    "# task15\n",
    "matrix1=np.random.randint(1,100,(5,5))\n",
    "\n",
    "row_sums = np.sum(matrix1, axis=1)  \n",
    "col_sums = np.sum(matrix1, axis=0) \n",
    "print(matrix1,row_sums,col_sums)"
   ]
  }
 ],
 "metadata": {
  "kernelspec": {
   "display_name": "Python 3",
   "language": "python",
   "name": "python3"
  },
  "language_info": {
   "codemirror_mode": {
    "name": "ipython",
    "version": 3
   },
   "file_extension": ".py",
   "mimetype": "text/x-python",
   "name": "python",
   "nbconvert_exporter": "python",
   "pygments_lexer": "ipython3",
   "version": "3.11.9"
  }
 },
 "nbformat": 4,
 "nbformat_minor": 2
}
