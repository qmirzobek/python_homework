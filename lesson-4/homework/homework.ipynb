{
 "cells": [
  {
   "cell_type": "markdown",
   "metadata": {},
   "source": [
    "## Homework"
   ]
  },
  {
   "cell_type": "code",
   "execution_count": 8,
   "metadata": {},
   "outputs": [
    {
     "name": "stdout",
     "output_type": "stream",
     "text": [
      "[2, 2, 5]\n"
     ]
    }
   ],
   "source": [
    "# 1\n",
    "list1 = [1, 1, 2, 3, 4, 2]\n",
    "list2 = [1, 3, 4, 5]\n",
    "list3 = list()\n",
    "for i in list1:\n",
    "    if (i in list2)==False:\n",
    "        list3.append(i)\n",
    "for i in list2:\n",
    "    if (i in list1)==False:\n",
    "        list3.append(i)\n",
    "print(list3)"
   ]
  },
  {
   "cell_type": "code",
   "execution_count": 9,
   "metadata": {},
   "outputs": [
    {
     "name": "stdout",
     "output_type": "stream",
     "text": [
      "0\n",
      "1\n",
      "4\n",
      "9\n",
      "16\n"
     ]
    }
   ],
   "source": [
    "# 2\n",
    "n=5\n",
    "for i in range(n):\n",
    "    print(i**2)"
   ]
  },
  {
   "cell_type": "code",
   "execution_count": 29,
   "metadata": {},
   "outputs": [
    {
     "name": "stdout",
     "output_type": "stream",
     "text": [
      "abc_abcd_abcdeab_cdef_abcdefg\n"
     ]
    }
   ],
   "source": [
    "# 3\n",
    "vowels=['a','e','u','i','o']\n",
    "used=list()\n",
    "txt=\"abcabcdabcdeabcdefabcdefg\"\n",
    "newTxt=''\n",
    "j=1\n",
    "for i in range(len(txt)):\n",
    "    newTxt+=txt[i]\n",
    "    if(j>=3):\n",
    "        # print(used)\n",
    "        if((txt[i] in used)==False and (txt[i] in vowels)==False and i!=(len(txt)-1)):\n",
    "            newTxt+=\"_\"\n",
    "            used.append(txt[i])\n",
    "\n",
    "            j=0\n",
    "        \n",
    "    else:\n",
    "        j+=1\n",
    "print(newTxt)     \n",
    "\n"
   ]
  },
  {
   "cell_type": "code",
   "execution_count": null,
   "metadata": {},
   "outputs": [
    {
     "name": "stdout",
     "output_type": "stream",
     "text": [
      "89\n"
     ]
    }
   ],
   "source": [
    "# 4\n",
    "import random\n",
    "wantToPlay=['y','yes','ok']\n",
    "while True:\n",
    "    number=random.randint(1,100)\n",
    "    # print(number)\n",
    "    for i in range(10):\n",
    "        userGuess=int(input(\"Your guess: \"))\n",
    "\n",
    "        if(userGuess>number):\n",
    "            print(\"Too high!\")\n",
    "        elif(userGuess<number):\n",
    "            print('Too low!')\n",
    "        else:\n",
    "            print('You guessed it right!')\n",
    "    else:\n",
    "        print('You lost. Want to play again? ')\n",
    "\n",
    "\n",
    "    userAnswer=input()\n",
    "    # userAnswer=\"no\"\n",
    "    if((userAnswer.lower() in wantToPlay)==False):\n",
    "        break\n",
    "\n"
   ]
  },
  {
   "cell_type": "code",
   "execution_count": null,
   "metadata": {},
   "outputs": [],
   "source": [
    "# 5\n",
    "userPassword=input(\"Enter you password: \")\n",
    "containsUpperCase=False\n",
    "for i in userPassword:\n",
    "    if('A'<i and i<'Z'):\n",
    "        containsUpperCase=True\n",
    "        break\n",
    "\n",
    "if(len(userPassword)<8):\n",
    "    print(\"Password is too short.\")\n",
    "elif (containsUpperCase==False):\n",
    "    print(\"Password must contain an uppercase letter.\")\n",
    "else:\n",
    "    print(\"Password is strong.\")"
   ]
  },
  {
   "cell_type": "code",
   "execution_count": 33,
   "metadata": {},
   "outputs": [
    {
     "name": "stdout",
     "output_type": "stream",
     "text": [
      "1\n",
      "2\n",
      "3\n",
      "5\n",
      "7\n",
      "11\n",
      "13\n",
      "17\n",
      "19\n",
      "23\n",
      "29\n",
      "31\n",
      "37\n",
      "41\n",
      "43\n",
      "47\n",
      "53\n",
      "59\n",
      "61\n",
      "67\n",
      "71\n",
      "73\n",
      "79\n",
      "83\n",
      "89\n",
      "97\n"
     ]
    }
   ],
   "source": [
    "# 6\n",
    "for i in range(1,100):\n",
    "    for j in range(2,i):\n",
    "        if(i%j==0):\n",
    "            break\n",
    "    else:\n",
    "        print(i)"
   ]
  },
  {
   "cell_type": "code",
   "execution_count": null,
   "metadata": {},
   "outputs": [],
   "source": [
    "# Bonus Challenge\n",
    "import random\n",
    "choices=['rock','paper','scissors']\n",
    "computerScore=0\n",
    "userScore=0\n",
    "while True:\n",
    "    computerChoice=random.choice(choices)\n",
    "    print(\"User score: \",userScore)\n",
    "    print(\"Computer score: \",computerScore)\n",
    "    # print(computerChoice)\n",
    "    while True:\n",
    "        userChoice=input('Enter your choice(rock, paper, scissors): ')\n",
    "        if(userChoice.lower() in choices):\n",
    "            break\n",
    "    if(computerChoice=='rock'):\n",
    "        if(userChoice.lower()=='rock'):\n",
    "            print('Draw')\n",
    "        elif(userChoice.lower()=='paper'):\n",
    "            print('User got one point')\n",
    "            userScore+=1\n",
    "        else:\n",
    "            print(\"Computer got one point\")\n",
    "            computerScore+=1\n",
    "    elif(computerChoice==\"paper\"):\n",
    "        if(userChoice.lower()=='paper'):\n",
    "            print('Draw')\n",
    "        elif(userChoice.lower()=='scissors'):\n",
    "            print('User got one point')\n",
    "            userScore+=1\n",
    "        else:\n",
    "            print(\"Computer got one point\")\n",
    "            computerScore+=1\n",
    "    else:\n",
    "        if(userChoice.lower()=='scissors'):\n",
    "            print('Draw')\n",
    "        elif(userChoice.lower()=='rock'):\n",
    "            print('User got one point')\n",
    "            userScore+=1\n",
    "        else:\n",
    "            print(\"Computer got one point\")\n",
    "            computerScore+=1\n",
    "    if(userScore>=5):\n",
    "        print('User won the game!')\n",
    "        break\n",
    "    elif(computerScore>=5):\n",
    "        print('Computer won the game')\n",
    "        break\n",
    "\n",
    "    \n"
   ]
  }
 ],
 "metadata": {
  "kernelspec": {
   "display_name": "Python 3",
   "language": "python",
   "name": "python3"
  },
  "language_info": {
   "codemirror_mode": {
    "name": "ipython",
    "version": 3
   },
   "file_extension": ".py",
   "mimetype": "text/x-python",
   "name": "python",
   "nbconvert_exporter": "python",
   "pygments_lexer": "ipython3",
   "version": "3.11.9"
  }
 },
 "nbformat": 4,
 "nbformat_minor": 2
}
