{
 "cells": [
  {
   "cell_type": "markdown",
   "metadata": {},
   "source": [
    "### List"
   ]
  },
  {
   "cell_type": "code",
   "execution_count": null,
   "metadata": {},
   "outputs": [
    {
     "data": {
      "text/plain": [
       "1"
      ]
     },
     "execution_count": 132,
     "metadata": {},
     "output_type": "execute_result"
    },
    {
     "data": {
      "text/plain": [
       "1"
      ]
     },
     "execution_count": 174,
     "metadata": {},
     "output_type": "execute_result"
    }
   ],
   "source": [
    "# list1\n",
    "list1=[1,2,3,4,5,6,7]\n",
    "element1=2\n",
    "occurrences = list1.count(element1)\n",
    "occurrences"
   ]
  },
  {
   "cell_type": "code",
   "execution_count": null,
   "metadata": {},
   "outputs": [
    {
     "data": {
      "text/plain": [
       "28"
      ]
     },
     "execution_count": 133,
     "metadata": {},
     "output_type": "execute_result"
    }
   ],
   "source": [
    "# list2\n",
    "total=sum(list1)\n",
    "total"
   ]
  },
  {
   "cell_type": "code",
   "execution_count": null,
   "metadata": {},
   "outputs": [
    {
     "data": {
      "text/plain": [
       "7"
      ]
     },
     "execution_count": 134,
     "metadata": {},
     "output_type": "execute_result"
    }
   ],
   "source": [
    "# list3\n",
    "maxEl=max(list1)\n",
    "maxEl"
   ]
  },
  {
   "cell_type": "code",
   "execution_count": null,
   "metadata": {},
   "outputs": [
    {
     "data": {
      "text/plain": [
       "1"
      ]
     },
     "execution_count": 135,
     "metadata": {},
     "output_type": "execute_result"
    }
   ],
   "source": [
    "# list4\n",
    "minEl=min(list1)\n",
    "minEl"
   ]
  },
  {
   "cell_type": "code",
   "execution_count": null,
   "metadata": {},
   "outputs": [
    {
     "data": {
      "text/plain": [
       "True"
      ]
     },
     "execution_count": 136,
     "metadata": {},
     "output_type": "execute_result"
    }
   ],
   "source": [
    "# list5\n",
    "checkPres=element1 in list1\n",
    "checkPres"
   ]
  },
  {
   "cell_type": "code",
   "execution_count": null,
   "metadata": {},
   "outputs": [
    {
     "name": "stdout",
     "output_type": "stream",
     "text": [
      "1\n"
     ]
    }
   ],
   "source": [
    "# list6\n",
    "if(len(list1)>0):\n",
    "    print(list1[0])\n",
    "else:\n",
    "    print(\"List is empty\")\n"
   ]
  },
  {
   "cell_type": "code",
   "execution_count": null,
   "metadata": {},
   "outputs": [
    {
     "name": "stdout",
     "output_type": "stream",
     "text": [
      "7\n"
     ]
    }
   ],
   "source": [
    "# list7\n",
    "if(len(list1)>0):\n",
    "    print(list1[(len(list1)-1)])\n",
    "else:\n",
    "    print(\"List is empty\")"
   ]
  },
  {
   "cell_type": "code",
   "execution_count": null,
   "metadata": {},
   "outputs": [
    {
     "data": {
      "text/plain": [
       "[1, 2, 3]"
      ]
     },
     "execution_count": 139,
     "metadata": {},
     "output_type": "execute_result"
    }
   ],
   "source": [
    "# list8\n",
    "newList=list1[0:3]\n",
    "newList"
   ]
  },
  {
   "cell_type": "code",
   "execution_count": null,
   "metadata": {},
   "outputs": [
    {
     "data": {
      "text/plain": [
       "[7, 6, 5, 4, 3, 2, 1]"
      ]
     },
     "execution_count": 140,
     "metadata": {},
     "output_type": "execute_result"
    }
   ],
   "source": [
    "# list9 \n",
    "reversedList=list1[::-1]\n",
    "reversedList"
   ]
  },
  {
   "cell_type": "code",
   "execution_count": null,
   "metadata": {},
   "outputs": [
    {
     "data": {
      "text/plain": [
       "[1, 2, 3, 4, 5, 6, 7]"
      ]
     },
     "execution_count": 141,
     "metadata": {},
     "output_type": "execute_result"
    }
   ],
   "source": [
    "# list10\n",
    "sortedList=list1\n",
    "sortedList.sort()\n",
    "sortedList"
   ]
  },
  {
   "cell_type": "code",
   "execution_count": null,
   "metadata": {},
   "outputs": [
    {
     "data": {
      "text/plain": [
       "[1, 2, 3, 4, 5, 6, 7]"
      ]
     },
     "execution_count": 142,
     "metadata": {},
     "output_type": "execute_result"
    }
   ],
   "source": [
    "# list11\n",
    "uniqueList=list(set(list1))\n",
    "uniqueList\n"
   ]
  },
  {
   "cell_type": "code",
   "execution_count": null,
   "metadata": {},
   "outputs": [
    {
     "name": "stdout",
     "output_type": "stream",
     "text": [
      "[1, 2, 3, 4, 2, 6, 7]\n"
     ]
    }
   ],
   "source": [
    "# list12\n",
    "index=4\n",
    "list1[index]=element1\n",
    "print(list1)"
   ]
  },
  {
   "cell_type": "code",
   "execution_count": null,
   "metadata": {},
   "outputs": [
    {
     "name": "stdout",
     "output_type": "stream",
     "text": [
      "1\n"
     ]
    }
   ],
   "source": [
    "# list13\n",
    "if(element1 in list1):\n",
    "    elInd=list1.index(element1)\n",
    "    print(elInd)\n",
    "else:\n",
    "    print(\"Element is not in the list\")"
   ]
  },
  {
   "cell_type": "code",
   "execution_count": null,
   "metadata": {},
   "outputs": [
    {
     "name": "stdout",
     "output_type": "stream",
     "text": [
      "True\n"
     ]
    }
   ],
   "source": [
    "# list14\n",
    "if(element1 in list1):\n",
    "    print(True)\n",
    "else:\n",
    "    print(False)"
   ]
  },
  {
   "cell_type": "code",
   "execution_count": null,
   "metadata": {},
   "outputs": [
    {
     "name": "stdout",
     "output_type": "stream",
     "text": [
      "4\n"
     ]
    }
   ],
   "source": [
    "# list15\n",
    "\n",
    "e=0\n",
    "for i in list1:\n",
    "    if(i%2==0):\n",
    "        e+=1\n",
    "print(e)\n"
   ]
  },
  {
   "cell_type": "code",
   "execution_count": null,
   "metadata": {},
   "outputs": [
    {
     "name": "stdout",
     "output_type": "stream",
     "text": [
      "3\n"
     ]
    }
   ],
   "source": [
    "# list16\n",
    "o=0\n",
    "for i in list1:\n",
    "    if(i%2!=0):\n",
    "        o+=1\n",
    "print(o)"
   ]
  },
  {
   "cell_type": "code",
   "execution_count": null,
   "metadata": {},
   "outputs": [
    {
     "name": "stdout",
     "output_type": "stream",
     "text": [
      "[1, 2, 3, 4, 2, 6, 7, 2, 3, 15]\n"
     ]
    }
   ],
   "source": [
    "# list17\n",
    "list2=[2,3,15]\n",
    "list1.extend(list2)\n",
    "print(list1)"
   ]
  },
  {
   "cell_type": "code",
   "execution_count": null,
   "metadata": {},
   "outputs": [
    {
     "name": "stdout",
     "output_type": "stream",
     "text": [
      "False\n"
     ]
    }
   ],
   "source": [
    "# list18\n",
    "if(list2 in list1):\n",
    "    print(True)\n",
    "else:\n",
    "    print(False)"
   ]
  },
  {
   "cell_type": "code",
   "execution_count": null,
   "metadata": {},
   "outputs": [
    {
     "name": "stdout",
     "output_type": "stream",
     "text": [
      "[1, 9, 3, 4, 2, 6, 7, 2, 3, 15]\n"
     ]
    }
   ],
   "source": [
    "# list19\n",
    "anotherEl=9\n",
    "i=list1.index(element1)\n",
    "list1[i]=anotherEl\n",
    "print(list1)"
   ]
  },
  {
   "cell_type": "code",
   "execution_count": null,
   "metadata": {},
   "outputs": [
    {
     "name": "stdout",
     "output_type": "stream",
     "text": [
      "6\n"
     ]
    }
   ],
   "source": [
    "# list20\n",
    "secondLargest=min(list1)\n",
    "largest=max(list1)\n",
    "for i in list1:\n",
    "    if(i!=largest and secondLargest<i):\n",
    "        secondLargest=i\n",
    "print(secondLargest)\n"
   ]
  },
  {
   "cell_type": "code",
   "execution_count": null,
   "metadata": {},
   "outputs": [
    {
     "name": "stdout",
     "output_type": "stream",
     "text": [
      "2\n"
     ]
    }
   ],
   "source": [
    "# list21\n",
    "m=min(list1)\n",
    "k=(list1.index(m))+1\n",
    "if(k>=len(list1)):\n",
    "    k-=2\n",
    "secondSmallest=list1[k]\n",
    "smallest=min(list1)\n",
    "for j in list1:\n",
    "    if(j!=smallest and secondSmallest>j):\n",
    "        secondSmallest=j\n",
    "print(secondSmallest) "
   ]
  },
  {
   "cell_type": "code",
   "execution_count": null,
   "metadata": {},
   "outputs": [
    {
     "name": "stdout",
     "output_type": "stream",
     "text": [
      "[4, 2, 6, 2]\n"
     ]
    }
   ],
   "source": [
    "# list22\n",
    "\n",
    "evenNumbersList=list()\n",
    "for i in list1:\n",
    "    if(i%2==0):\n",
    "        evenNumbersList.append(i)\n",
    "\n",
    "print(evenNumbersList)\n"
   ]
  },
  {
   "cell_type": "code",
   "execution_count": null,
   "metadata": {},
   "outputs": [
    {
     "name": "stdout",
     "output_type": "stream",
     "text": [
      "[1, 9, 3, 7, 3, 15]\n"
     ]
    }
   ],
   "source": [
    "# list23\n",
    "\n",
    "oddNumbersList=list()\n",
    "for i in list1:\n",
    "    if(i%2!=0):\n",
    "        oddNumbersList.append(i)\n",
    "\n",
    "print(oddNumbersList)\n"
   ]
  },
  {
   "cell_type": "code",
   "execution_count": null,
   "metadata": {},
   "outputs": [
    {
     "name": "stdout",
     "output_type": "stream",
     "text": [
      "10\n"
     ]
    }
   ],
   "source": [
    "# list24\n",
    "print(len(list1))"
   ]
  },
  {
   "cell_type": "code",
   "execution_count": null,
   "metadata": {},
   "outputs": [
    {
     "name": "stdout",
     "output_type": "stream",
     "text": [
      "[1, 9, 3, 4, 2, 6, 7, 2, 3, 15]\n"
     ]
    }
   ],
   "source": [
    "# list25\n",
    "listCopy=list1.copy()\n",
    "print(listCopy)"
   ]
  },
  {
   "cell_type": "code",
   "execution_count": null,
   "metadata": {},
   "outputs": [
    {
     "name": "stdout",
     "output_type": "stream",
     "text": [
      "6 7\n"
     ]
    }
   ],
   "source": [
    "# list26\n",
    "i=len(list1)\n",
    "i=int(i/2)\n",
    "print(list1[i],list1[(i+1)])\n"
   ]
  },
  {
   "cell_type": "code",
   "execution_count": null,
   "metadata": {},
   "outputs": [
    {
     "ename": "NameError",
     "evalue": "name 'subListIndex' is not defined",
     "output_type": "error",
     "traceback": [
      "\u001b[31m---------------------------------------------------------------------------\u001b[39m",
      "\u001b[31mNameError\u001b[39m                                 Traceback (most recent call last)",
      "\u001b[36mCell\u001b[39m\u001b[36m \u001b[39m\u001b[32mIn[158]\u001b[39m\u001b[32m, line 3\u001b[39m\n\u001b[32m      1\u001b[39m \u001b[38;5;66;03m# list27\u001b[39;00m\n\u001b[32m----> \u001b[39m\u001b[32m3\u001b[39m maxElementInTheSublist=\u001b[38;5;28mmax\u001b[39m(list1[\u001b[43msubListIndex\u001b[49m])\n\u001b[32m      4\u001b[39m \u001b[38;5;28mprint\u001b[39m(maxElementInTheSublist)\n",
      "\u001b[31mNameError\u001b[39m: name 'subListIndex' is not defined"
     ]
    }
   ],
   "source": [
    "# list27\n",
    "\n",
    "maxElementInTheSublist=max(list1[subListIndex])\n",
    "print(maxElementInTheSublist)\n"
   ]
  },
  {
   "cell_type": "code",
   "execution_count": null,
   "metadata": {},
   "outputs": [],
   "source": [
    "# list28\n",
    "\n",
    "\n",
    "minElementInTheSublist=max(list1[subListIndex])\n",
    "print(minElementInTheSublist)"
   ]
  },
  {
   "cell_type": "code",
   "execution_count": null,
   "metadata": {},
   "outputs": [
    {
     "name": "stdout",
     "output_type": "stream",
     "text": [
      "[1, 9, 3, 4, 2, 7, 2, 3, 15]\n"
     ]
    }
   ],
   "source": [
    "# list29\n",
    "elIndex=5\n",
    "if(elIndex<len(list1)):\n",
    "    list1.remove(list1[elIndex])\n",
    "else:\n",
    "    print(\"Element does not exist\")\n",
    "print(list1)"
   ]
  },
  {
   "cell_type": "code",
   "execution_count": null,
   "metadata": {},
   "outputs": [
    {
     "name": "stdout",
     "output_type": "stream",
     "text": [
      "False\n"
     ]
    }
   ],
   "source": [
    "# list30\n",
    "l=list1.sort()\n",
    "if(l==list1):\n",
    "    print(True)\n",
    "else:\n",
    "    print(False)"
   ]
  },
  {
   "cell_type": "code",
   "execution_count": null,
   "metadata": {},
   "outputs": [
    {
     "name": "stdout",
     "output_type": "stream",
     "text": [
      "[1, 2, 2, 2, 2, 3, 3, 3, 3, 3, 3, 4, 4, 4, 4, 7, 7, 7, 7, 7, 7, 7, 9, 9, 9, 9, 9, 9, 9, 9, 9, 15, 15, 15, 15, 15, 15, 15, 15, 15, 15, 15, 15, 15, 15, 15]\n"
     ]
    }
   ],
   "source": [
    "# list31\n",
    "newList=list()\n",
    "for i in list1:\n",
    "    for j in range(i):\n",
    "        newList.append(i)\n",
    "print(newList)"
   ]
  },
  {
   "cell_type": "code",
   "execution_count": null,
   "metadata": {},
   "outputs": [
    {
     "name": "stdout",
     "output_type": "stream",
     "text": [
      "[1, 1, 1, 2, 2, 2, 2, 2, 2, 2, 2, 3, 3, 3, 3, 3, 3, 3, 3, 3, 3, 4, 4, 4, 4, 4, 4, 7, 7, 7, 7, 7, 7, 7, 7, 7, 9, 9, 9, 9, 9, 9, 9, 9, 9, 9, 9, 15, 15, 15, 15, 15, 15, 15, 15, 15, 15, 15, 15, 15, 15, 15, 15, 15]\n"
     ]
    }
   ],
   "source": [
    "# list32\n",
    "newList.extend(list1)\n",
    "sortedNewList=newList\n",
    "sortedNewList.sort()\n",
    "print(sortedNewList)"
   ]
  },
  {
   "cell_type": "code",
   "execution_count": null,
   "metadata": {},
   "outputs": [
    {
     "name": "stdout",
     "output_type": "stream",
     "text": [
      "1\n",
      "2\n"
     ]
    }
   ],
   "source": [
    "# list33\n",
    "for i in range(len(list1)):\n",
    "    if(list1[i]==element1):\n",
    "        print(i)\n"
   ]
  },
  {
   "cell_type": "code",
   "execution_count": null,
   "metadata": {},
   "outputs": [
    {
     "name": "stdout",
     "output_type": "stream",
     "text": [
      "[15, 9, 7, 4, 3, 3, 2, 2, 1]\n"
     ]
    }
   ],
   "source": [
    "# list34\n",
    "list2=sorted(list1, reverse=True)\n",
    "print(list2)"
   ]
  },
  {
   "cell_type": "code",
   "execution_count": null,
   "metadata": {},
   "outputs": [],
   "source": [
    "# list35\n",
    "# a=int(input(\"Enter beginning of range: \"))\n",
    "# b=int(input(\"Enter end of range: \"))\n",
    "newRangedList=list()\n",
    "for i in range(a,b,1):\n",
    "    newRangedList.append(i)\n",
    "print(newRangedList)"
   ]
  },
  {
   "cell_type": "code",
   "execution_count": null,
   "metadata": {},
   "outputs": [
    {
     "name": "stdout",
     "output_type": "stream",
     "text": [
      "[1, 2, 3, 4, 5, 6, 7]\n",
      "7\n"
     ]
    }
   ],
   "source": [
    "# list36\n",
    "print(list1)\n",
    "positiveNumbers=0\n",
    "for i in list1:\n",
    "    if(i>=0):\n",
    "        positiveNumbers+=i\n",
    "print(positiveNumbers)"
   ]
  },
  {
   "cell_type": "code",
   "execution_count": null,
   "metadata": {},
   "outputs": [],
   "source": [
    "# list37\n",
    "negativeNumberSum=0\n",
    "for i in list1:\n",
    "    if(i<0):\n",
    "        negativeNumberSum+=i\n",
    "print(negativeNumberSum)"
   ]
  },
  {
   "cell_type": "code",
   "execution_count": null,
   "metadata": {},
   "outputs": [],
   "source": [
    "# list38\n",
    "reversedList=list1.reverse()\n",
    "if(reversedList==list1):\n",
    "    print(\"List is palindrome\")\n",
    "else:\n",
    "    print(\"List is not palindrome\")"
   ]
  },
  {
   "cell_type": "code",
   "execution_count": null,
   "metadata": {},
   "outputs": [
    {
     "ename": "TypeError",
     "evalue": "'int' object is not iterable",
     "output_type": "error",
     "traceback": [
      "\u001b[31m---------------------------------------------------------------------------\u001b[39m",
      "\u001b[31mTypeError\u001b[39m                                 Traceback (most recent call last)",
      "\u001b[36mCell\u001b[39m\u001b[36m \u001b[39m\u001b[32mIn[177]\u001b[39m\u001b[32m, line 8\u001b[39m\n\u001b[32m      6\u001b[39m \u001b[38;5;28;01mif\u001b[39;00m(j==specifiedNumber):\n\u001b[32m      7\u001b[39m     nestedList.append(newList)\n\u001b[32m----> \u001b[39m\u001b[32m8\u001b[39m     newList=\u001b[38;5;28;43mlist\u001b[39;49m\u001b[43m(\u001b[49m\u001b[43mi\u001b[49m\u001b[43m)\u001b[49m\n\u001b[32m      9\u001b[39m     j=\u001b[32m0\u001b[39m\n\u001b[32m     10\u001b[39m \u001b[38;5;28;01melse\u001b[39;00m:\n",
      "\u001b[31mTypeError\u001b[39m: 'int' object is not iterable"
     ]
    }
   ],
   "source": [
    "# list39\n",
    "nestedList=list()\n",
    "specifiedNumber=3\n",
    "j=0\n",
    "for i in list1:\n",
    "    if(j==specifiedNumber):\n",
    "        nestedList.append(newList)\n",
    "        newList=list(i)\n",
    "        j=0\n",
    "    else:\n",
    "        newList.append(i)\n",
    "        j+=1\n",
    "\n",
    "print(nestedList)"
   ]
  },
  {
   "cell_type": "code",
   "execution_count": null,
   "metadata": {},
   "outputs": [],
   "source": [
    "# list40\n",
    "uniqueList=list()\n",
    "for i in list1:\n",
    "    if((i in uniqueList)==False):\n",
    "        uniqueList.append(i)\n",
    "print(uniqueList)"
   ]
  },
  {
   "cell_type": "markdown",
   "metadata": {},
   "source": [
    "### Tuple tasks"
   ]
  },
  {
   "cell_type": "code",
   "execution_count": 189,
   "metadata": {},
   "outputs": [
    {
     "name": "stdout",
     "output_type": "stream",
     "text": [
      "2\n"
     ]
    }
   ],
   "source": [
    "# tuple1\n",
    "tuple1=(1,2,3,3,4,5,6,7)\n",
    "tuple2=(5,6,7,8,9)\n",
    "occurancesOfElement=0\n",
    "element1=3\n",
    "for i in tuple1:\n",
    "    if(element1==i):\n",
    "        occurancesOfElement+=1\n",
    "print(occurancesOfElement)"
   ]
  },
  {
   "cell_type": "code",
   "execution_count": 190,
   "metadata": {},
   "outputs": [
    {
     "name": "stdout",
     "output_type": "stream",
     "text": [
      "7\n"
     ]
    }
   ],
   "source": [
    "# tuple2\n",
    "print(max(tuple1))"
   ]
  },
  {
   "cell_type": "code",
   "execution_count": 191,
   "metadata": {},
   "outputs": [
    {
     "name": "stdout",
     "output_type": "stream",
     "text": [
      "1\n"
     ]
    }
   ],
   "source": [
    "# tuple3\n",
    "print(min(tuple1))"
   ]
  },
  {
   "cell_type": "code",
   "execution_count": 192,
   "metadata": {},
   "outputs": [
    {
     "name": "stdout",
     "output_type": "stream",
     "text": [
      "Tuple contains the element\n"
     ]
    }
   ],
   "source": [
    "# tuple4\n",
    "if((element1 in tuple1)):\n",
    "    print(\"Tuple contains the element\")\n",
    "else:\n",
    "    print(\"Tuple does not contain the element\")"
   ]
  },
  {
   "cell_type": "code",
   "execution_count": 193,
   "metadata": {},
   "outputs": [
    {
     "name": "stdout",
     "output_type": "stream",
     "text": [
      "1\n"
     ]
    }
   ],
   "source": [
    "# tuple5\n",
    "if(len(tuple1)>0):\n",
    "    print(tuple1[0])\n",
    "else:\n",
    "    print(\"Tuple is empty\")"
   ]
  },
  {
   "cell_type": "code",
   "execution_count": 194,
   "metadata": {},
   "outputs": [
    {
     "name": "stdout",
     "output_type": "stream",
     "text": [
      "7\n"
     ]
    }
   ],
   "source": [
    "# tuple6\n",
    "if(len(tuple1)>0):\n",
    "    print(tuple1[(len(tuple1)-1)])\n",
    "else:\n",
    "    print(\"Tuple is empty\")"
   ]
  },
  {
   "cell_type": "code",
   "execution_count": 195,
   "metadata": {},
   "outputs": [
    {
     "name": "stdout",
     "output_type": "stream",
     "text": [
      "8\n"
     ]
    }
   ],
   "source": [
    "# tuple7\n",
    "print(len(tuple1))"
   ]
  },
  {
   "cell_type": "code",
   "execution_count": 196,
   "metadata": {},
   "outputs": [
    {
     "name": "stdout",
     "output_type": "stream",
     "text": [
      "(1, 2, 3)\n"
     ]
    }
   ],
   "source": [
    "# tuple8\n",
    "slicedTuple=(tuple1[0:3])\n",
    "print(slicedTuple)"
   ]
  },
  {
   "cell_type": "code",
   "execution_count": 205,
   "metadata": {},
   "outputs": [
    {
     "name": "stdout",
     "output_type": "stream",
     "text": [
      "(1, 2, 3, 3, 4, 5, 6, 7, 5, 6, 7, 8, 9)\n"
     ]
    }
   ],
   "source": [
    "# tuple9\n",
    "\n",
    "# newConcatenatedTuple=tuple(tuple1,tuple2)\n",
    "n=list(tuple1)\n",
    "n1=list(tuple2)\n",
    "n.extend(n1)\n",
    "newConcatenatedTuple=tuple(n)\n",
    "print(newConcatenatedTuple)"
   ]
  },
  {
   "cell_type": "code",
   "execution_count": 206,
   "metadata": {},
   "outputs": [
    {
     "name": "stdout",
     "output_type": "stream",
     "text": [
      "Tuple is not empty\n"
     ]
    }
   ],
   "source": [
    "# tuple10\n",
    "if(len(tuple1)>0):\n",
    "    print('Tuple is not empty')\n",
    "else:\n",
    "    print(\"Tuple is empty\")"
   ]
  },
  {
   "cell_type": "code",
   "execution_count": 212,
   "metadata": {},
   "outputs": [
    {
     "name": "stdout",
     "output_type": "stream",
     "text": [
      "2\n",
      "3\n"
     ]
    }
   ],
   "source": [
    "# tuple11\n",
    "type(tuple1)\n",
    "# j=0\n",
    "for i in range(len(tuple1)):\n",
    "    if(tuple1[i]==element1):\n",
    "        print(i)\n",
    "\n",
    "\n"
   ]
  },
  {
   "cell_type": "code",
   "execution_count": 216,
   "metadata": {},
   "outputs": [
    {
     "name": "stdout",
     "output_type": "stream",
     "text": [
      "6\n"
     ]
    }
   ],
   "source": [
    "# tuple12\n",
    "secondLargestTuple=min(tuple1)\n",
    "largestTuple=max(tuple1)\n",
    "for i in range(len(tuple1)):\n",
    "    if(largestTuple!=tuple1[i] and secondLargestTuple<tuple1[i]):\n",
    "        secondLargestTuple=tuple1[i]\n",
    "print(secondLargestTuple)\n"
   ]
  },
  {
   "cell_type": "code",
   "execution_count": 217,
   "metadata": {},
   "outputs": [
    {
     "name": "stdout",
     "output_type": "stream",
     "text": [
      "2\n"
     ]
    }
   ],
   "source": [
    "# tuple13\n",
    "secondSmallestTuple=max(tuple1)\n",
    "smallestTuple=min(tuple1)\n",
    "for i in range(len(tuple1)):\n",
    "    if(smallestTuple!=tuple1[i] and secondSmallestTuple>tuple1[i]):\n",
    "        secondSmallestTuple=tuple1[i]\n",
    "print(secondSmallestTuple)"
   ]
  },
  {
   "cell_type": "code",
   "execution_count": 218,
   "metadata": {},
   "outputs": [
    {
     "name": "stdout",
     "output_type": "stream",
     "text": [
      "(3,)\n"
     ]
    }
   ],
   "source": [
    "# tuple14\n",
    "singalElementTuple=(specifiedNumber,)\n",
    "print(singalElementTuple)"
   ]
  },
  {
   "cell_type": "code",
   "execution_count": 219,
   "metadata": {},
   "outputs": [
    {
     "name": "stdout",
     "output_type": "stream",
     "text": [
      "(1, 2, 3, 4, 5, 6, 7)\n"
     ]
    }
   ],
   "source": [
    "# tuple15\n",
    "list2Tuple=tuple(list1)\n",
    "print(list2Tuple)"
   ]
  },
  {
   "cell_type": "code",
   "execution_count": null,
   "metadata": {},
   "outputs": [
    {
     "name": "stdout",
     "output_type": "stream",
     "text": [
      "(1, 2, 3, 3, 4, 5, 6, 7)\n",
      "Tuple1 is sorted\n"
     ]
    }
   ],
   "source": [
    "# tuple16\n",
    "# print(tuple1)\n",
    "\n",
    "if(tuple(sorted(tuple1))==tuple1):\n",
    "    print(\"Tuple1 is sorted\")\n",
    "else:\n",
    "    print(\"Tuple1 is not sorted\")"
   ]
  },
  {
   "cell_type": "code",
   "execution_count": 230,
   "metadata": {},
   "outputs": [
    {
     "name": "stdout",
     "output_type": "stream",
     "text": [
      "12\n"
     ]
    }
   ],
   "source": [
    "# tuple17\n",
    "hybridTuple=((1,2,3,4),(3,4,6,7),(8,9,10,11),(12,3,4,5),(3,4,5,6))\n",
    "print(max(hybridTuple[specifiedNumber]))\n"
   ]
  },
  {
   "cell_type": "code",
   "execution_count": 231,
   "metadata": {},
   "outputs": [
    {
     "name": "stdout",
     "output_type": "stream",
     "text": [
      "3\n"
     ]
    }
   ],
   "source": [
    "# tuple18\n",
    "# hybridTuple=((1,2,3,4),(3,4,6,7),(8,9,10,11),(12,3,4,5),(3,4,5,6))\n",
    "print(min(hybridTuple[specifiedNumber]))"
   ]
  },
  {
   "cell_type": "code",
   "execution_count": 234,
   "metadata": {},
   "outputs": [
    {
     "name": "stdout",
     "output_type": "stream",
     "text": [
      "(1, 2, 3, 4, 5, 6, 7)\n"
     ]
    }
   ],
   "source": [
    "# tuple19\n",
    "newRemovedOne=list()\n",
    "j=0\n",
    "# print(tuple1)\n",
    "for i in tuple1:\n",
    "    if(i==element1 and j==0):\n",
    "        j+=1\n",
    "    else:\n",
    "        newRemovedOne.append(i)\n",
    "newRemovedTuple=tuple(newRemovedOne)\n",
    "print(newRemovedTuple)"
   ]
  },
  {
   "cell_type": "code",
   "execution_count": null,
   "metadata": {},
   "outputs": [],
   "source": [
    "# tuple20\n",
    "newCreatedTup=list()\n",
    "for i in tuple1:\n",
    "    for j in range(i):\n",
    "        newList.append(i)\n",
    "    newCreatedTup.append(newList)\n",
    "    newList.clear()"
   ]
  }
 ],
 "metadata": {
  "kernelspec": {
   "display_name": "Python 3",
   "language": "python",
   "name": "python3"
  },
  "language_info": {
   "codemirror_mode": {
    "name": "ipython",
    "version": 3
   },
   "file_extension": ".py",
   "mimetype": "text/x-python",
   "name": "python",
   "nbconvert_exporter": "python",
   "pygments_lexer": "ipython3",
   "version": "3.11.9"
  }
 },
 "nbformat": 4,
 "nbformat_minor": 2
}
