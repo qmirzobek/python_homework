{
 "cells": [
  {
   "cell_type": "markdown",
   "metadata": {},
   "source": [
    "### List"
   ]
  },
  {
   "cell_type": "code",
   "execution_count": null,
   "metadata": {},
   "outputs": [
    {
     "data": {
      "text/plain": [
       "1"
      ]
     },
     "execution_count": 132,
     "metadata": {},
     "output_type": "execute_result"
    },
    {
     "data": {
      "text/plain": [
       "1"
      ]
     },
     "execution_count": 174,
     "metadata": {},
     "output_type": "execute_result"
    }
   ],
   "source": [
    "# list1\n",
    "list1=[1,2,3,4,5,6,7]\n",
    "element1=2\n",
    "occurrences = list1.count(element1)\n",
    "occurrences"
   ]
  },
  {
   "cell_type": "code",
   "execution_count": null,
   "metadata": {},
   "outputs": [
    {
     "data": {
      "text/plain": [
       "28"
      ]
     },
     "execution_count": 133,
     "metadata": {},
     "output_type": "execute_result"
    }
   ],
   "source": [
    "# list2\n",
    "total=sum(list1)\n",
    "total"
   ]
  },
  {
   "cell_type": "code",
   "execution_count": null,
   "metadata": {},
   "outputs": [
    {
     "data": {
      "text/plain": [
       "7"
      ]
     },
     "execution_count": 134,
     "metadata": {},
     "output_type": "execute_result"
    }
   ],
   "source": [
    "# list3\n",
    "maxEl=max(list1)\n",
    "maxEl"
   ]
  },
  {
   "cell_type": "code",
   "execution_count": null,
   "metadata": {},
   "outputs": [
    {
     "data": {
      "text/plain": [
       "1"
      ]
     },
     "execution_count": 135,
     "metadata": {},
     "output_type": "execute_result"
    }
   ],
   "source": [
    "# list4\n",
    "minEl=min(list1)\n",
    "minEl"
   ]
  },
  {
   "cell_type": "code",
   "execution_count": null,
   "metadata": {},
   "outputs": [
    {
     "data": {
      "text/plain": [
       "True"
      ]
     },
     "execution_count": 136,
     "metadata": {},
     "output_type": "execute_result"
    }
   ],
   "source": [
    "# list5\n",
    "checkPres=element1 in list1\n",
    "checkPres"
   ]
  },
  {
   "cell_type": "code",
   "execution_count": null,
   "metadata": {},
   "outputs": [
    {
     "name": "stdout",
     "output_type": "stream",
     "text": [
      "1\n"
     ]
    }
   ],
   "source": [
    "# list6\n",
    "if(len(list1)>0):\n",
    "    print(list1[0])\n",
    "else:\n",
    "    print(\"List is empty\")\n"
   ]
  },
  {
   "cell_type": "code",
   "execution_count": null,
   "metadata": {},
   "outputs": [
    {
     "name": "stdout",
     "output_type": "stream",
     "text": [
      "7\n"
     ]
    }
   ],
   "source": [
    "# list7\n",
    "if(len(list1)>0):\n",
    "    print(list1[(len(list1)-1)])\n",
    "else:\n",
    "    print(\"List is empty\")"
   ]
  },
  {
   "cell_type": "code",
   "execution_count": null,
   "metadata": {},
   "outputs": [
    {
     "data": {
      "text/plain": [
       "[1, 2, 3]"
      ]
     },
     "execution_count": 139,
     "metadata": {},
     "output_type": "execute_result"
    }
   ],
   "source": [
    "# list8\n",
    "newList=list1[0:3]\n",
    "newList"
   ]
  },
  {
   "cell_type": "code",
   "execution_count": null,
   "metadata": {},
   "outputs": [
    {
     "data": {
      "text/plain": [
       "[7, 6, 5, 4, 3, 2, 1]"
      ]
     },
     "execution_count": 140,
     "metadata": {},
     "output_type": "execute_result"
    }
   ],
   "source": [
    "# list9 \n",
    "reversedList=list1[::-1]\n",
    "reversedList"
   ]
  },
  {
   "cell_type": "code",
   "execution_count": null,
   "metadata": {},
   "outputs": [
    {
     "data": {
      "text/plain": [
       "[1, 2, 3, 4, 5, 6, 7]"
      ]
     },
     "execution_count": 141,
     "metadata": {},
     "output_type": "execute_result"
    }
   ],
   "source": [
    "# list10\n",
    "sortedList=list1\n",
    "sortedList.sort()\n",
    "sortedList"
   ]
  },
  {
   "cell_type": "code",
   "execution_count": null,
   "metadata": {},
   "outputs": [
    {
     "data": {
      "text/plain": [
       "[1, 2, 3, 4, 5, 6, 7]"
      ]
     },
     "execution_count": 142,
     "metadata": {},
     "output_type": "execute_result"
    }
   ],
   "source": [
    "# list11\n",
    "uniqueList=list(set(list1))\n",
    "uniqueList\n"
   ]
  },
  {
   "cell_type": "code",
   "execution_count": null,
   "metadata": {},
   "outputs": [
    {
     "name": "stdout",
     "output_type": "stream",
     "text": [
      "[1, 2, 3, 4, 2, 6, 7]\n"
     ]
    }
   ],
   "source": [
    "# list12\n",
    "index=4\n",
    "list1[index]=element1\n",
    "print(list1)"
   ]
  },
  {
   "cell_type": "code",
   "execution_count": null,
   "metadata": {},
   "outputs": [
    {
     "name": "stdout",
     "output_type": "stream",
     "text": [
      "1\n"
     ]
    }
   ],
   "source": [
    "# list13\n",
    "if(element1 in list1):\n",
    "    elInd=list1.index(element1)\n",
    "    print(elInd)\n",
    "else:\n",
    "    print(\"Element is not in the list\")"
   ]
  },
  {
   "cell_type": "code",
   "execution_count": null,
   "metadata": {},
   "outputs": [
    {
     "name": "stdout",
     "output_type": "stream",
     "text": [
      "True\n"
     ]
    }
   ],
   "source": [
    "# list14\n",
    "if(element1 in list1):\n",
    "    print(True)\n",
    "else:\n",
    "    print(False)"
   ]
  },
  {
   "cell_type": "code",
   "execution_count": null,
   "metadata": {},
   "outputs": [
    {
     "name": "stdout",
     "output_type": "stream",
     "text": [
      "4\n"
     ]
    }
   ],
   "source": [
    "# list15\n",
    "\n",
    "e=0\n",
    "for i in list1:\n",
    "    if(i%2==0):\n",
    "        e+=1\n",
    "print(e)\n"
   ]
  },
  {
   "cell_type": "code",
   "execution_count": null,
   "metadata": {},
   "outputs": [
    {
     "name": "stdout",
     "output_type": "stream",
     "text": [
      "3\n"
     ]
    }
   ],
   "source": [
    "# list16\n",
    "o=0\n",
    "for i in list1:\n",
    "    if(i%2!=0):\n",
    "        o+=1\n",
    "print(o)"
   ]
  },
  {
   "cell_type": "code",
   "execution_count": null,
   "metadata": {},
   "outputs": [
    {
     "name": "stdout",
     "output_type": "stream",
     "text": [
      "[1, 2, 3, 4, 2, 6, 7, 2, 3, 15]\n"
     ]
    }
   ],
   "source": [
    "# list17\n",
    "list2=[2,3,15]\n",
    "list1.extend(list2)\n",
    "print(list1)"
   ]
  },
  {
   "cell_type": "code",
   "execution_count": null,
   "metadata": {},
   "outputs": [
    {
     "name": "stdout",
     "output_type": "stream",
     "text": [
      "False\n"
     ]
    }
   ],
   "source": [
    "# list18\n",
    "if(list2 in list1):\n",
    "    print(True)\n",
    "else:\n",
    "    print(False)"
   ]
  },
  {
   "cell_type": "code",
   "execution_count": null,
   "metadata": {},
   "outputs": [
    {
     "name": "stdout",
     "output_type": "stream",
     "text": [
      "[1, 9, 3, 4, 2, 6, 7, 2, 3, 15]\n"
     ]
    }
   ],
   "source": [
    "# list19\n",
    "anotherEl=9\n",
    "i=list1.index(element1)\n",
    "list1[i]=anotherEl\n",
    "print(list1)"
   ]
  },
  {
   "cell_type": "code",
   "execution_count": null,
   "metadata": {},
   "outputs": [
    {
     "name": "stdout",
     "output_type": "stream",
     "text": [
      "6\n"
     ]
    }
   ],
   "source": [
    "# list20\n",
    "secondLargest=min(list1)\n",
    "largest=max(list1)\n",
    "for i in list1:\n",
    "    if(i!=largest and secondLargest<i):\n",
    "        secondLargest=i\n",
    "print(secondLargest)\n"
   ]
  },
  {
   "cell_type": "code",
   "execution_count": null,
   "metadata": {},
   "outputs": [
    {
     "name": "stdout",
     "output_type": "stream",
     "text": [
      "2\n"
     ]
    }
   ],
   "source": [
    "# list21\n",
    "m=min(list1)\n",
    "k=(list1.index(m))+1\n",
    "if(k>=len(list1)):\n",
    "    k-=2\n",
    "secondSmallest=list1[k]\n",
    "smallest=min(list1)\n",
    "for j in list1:\n",
    "    if(j!=smallest and secondSmallest>j):\n",
    "        secondSmallest=j\n",
    "print(secondSmallest) "
   ]
  },
  {
   "cell_type": "code",
   "execution_count": null,
   "metadata": {},
   "outputs": [
    {
     "name": "stdout",
     "output_type": "stream",
     "text": [
      "[4, 2, 6, 2]\n"
     ]
    }
   ],
   "source": [
    "# list22\n",
    "\n",
    "evenNumbersList=list()\n",
    "for i in list1:\n",
    "    if(i%2==0):\n",
    "        evenNumbersList.append(i)\n",
    "\n",
    "print(evenNumbersList)\n"
   ]
  },
  {
   "cell_type": "code",
   "execution_count": null,
   "metadata": {},
   "outputs": [
    {
     "name": "stdout",
     "output_type": "stream",
     "text": [
      "[1, 9, 3, 7, 3, 15]\n"
     ]
    }
   ],
   "source": [
    "# list23\n",
    "\n",
    "oddNumbersList=list()\n",
    "for i in list1:\n",
    "    if(i%2!=0):\n",
    "        oddNumbersList.append(i)\n",
    "\n",
    "print(oddNumbersList)\n"
   ]
  },
  {
   "cell_type": "code",
   "execution_count": null,
   "metadata": {},
   "outputs": [
    {
     "name": "stdout",
     "output_type": "stream",
     "text": [
      "10\n"
     ]
    }
   ],
   "source": [
    "# list24\n",
    "print(len(list1))"
   ]
  },
  {
   "cell_type": "code",
   "execution_count": null,
   "metadata": {},
   "outputs": [
    {
     "name": "stdout",
     "output_type": "stream",
     "text": [
      "[1, 9, 3, 4, 2, 6, 7, 2, 3, 15]\n"
     ]
    }
   ],
   "source": [
    "# list25\n",
    "listCopy=list1.copy()\n",
    "print(listCopy)"
   ]
  },
  {
   "cell_type": "code",
   "execution_count": null,
   "metadata": {},
   "outputs": [
    {
     "name": "stdout",
     "output_type": "stream",
     "text": [
      "6 7\n"
     ]
    }
   ],
   "source": [
    "# list26\n",
    "i=len(list1)\n",
    "i=int(i/2)\n",
    "print(list1[i],list1[(i+1)])\n"
   ]
  },
  {
   "cell_type": "code",
   "execution_count": null,
   "metadata": {},
   "outputs": [
    {
     "ename": "NameError",
     "evalue": "name 'subListIndex' is not defined",
     "output_type": "error",
     "traceback": [
      "\u001b[31m---------------------------------------------------------------------------\u001b[39m",
      "\u001b[31mNameError\u001b[39m                                 Traceback (most recent call last)",
      "\u001b[36mCell\u001b[39m\u001b[36m \u001b[39m\u001b[32mIn[158]\u001b[39m\u001b[32m, line 3\u001b[39m\n\u001b[32m      1\u001b[39m \u001b[38;5;66;03m# list27\u001b[39;00m\n\u001b[32m----> \u001b[39m\u001b[32m3\u001b[39m maxElementInTheSublist=\u001b[38;5;28mmax\u001b[39m(list1[\u001b[43msubListIndex\u001b[49m])\n\u001b[32m      4\u001b[39m \u001b[38;5;28mprint\u001b[39m(maxElementInTheSublist)\n",
      "\u001b[31mNameError\u001b[39m: name 'subListIndex' is not defined"
     ]
    }
   ],
   "source": [
    "# list27\n",
    "\n",
    "maxElementInTheSublist=max(list1[subListIndex])\n",
    "print(maxElementInTheSublist)\n"
   ]
  },
  {
   "cell_type": "code",
   "execution_count": null,
   "metadata": {},
   "outputs": [],
   "source": [
    "# list28\n",
    "\n",
    "\n",
    "minElementInTheSublist=max(list1[subListIndex])\n",
    "print(minElementInTheSublist)"
   ]
  },
  {
   "cell_type": "code",
   "execution_count": null,
   "metadata": {},
   "outputs": [
    {
     "name": "stdout",
     "output_type": "stream",
     "text": [
      "[1, 9, 3, 4, 2, 7, 2, 3, 15]\n"
     ]
    }
   ],
   "source": [
    "# list29\n",
    "elIndex=5\n",
    "if(elIndex<len(list1)):\n",
    "    list1.remove(list1[elIndex])\n",
    "else:\n",
    "    print(\"Element does not exist\")\n",
    "print(list1)"
   ]
  },
  {
   "cell_type": "code",
   "execution_count": null,
   "metadata": {},
   "outputs": [
    {
     "name": "stdout",
     "output_type": "stream",
     "text": [
      "False\n"
     ]
    }
   ],
   "source": [
    "# list30\n",
    "l=list1.sort()\n",
    "if(l==list1):\n",
    "    print(True)\n",
    "else:\n",
    "    print(False)"
   ]
  },
  {
   "cell_type": "code",
   "execution_count": null,
   "metadata": {},
   "outputs": [
    {
     "name": "stdout",
     "output_type": "stream",
     "text": [
      "[1, 2, 2, 2, 2, 3, 3, 3, 3, 3, 3, 4, 4, 4, 4, 7, 7, 7, 7, 7, 7, 7, 9, 9, 9, 9, 9, 9, 9, 9, 9, 15, 15, 15, 15, 15, 15, 15, 15, 15, 15, 15, 15, 15, 15, 15]\n"
     ]
    }
   ],
   "source": [
    "# list31\n",
    "newList=list()\n",
    "for i in list1:\n",
    "    for j in range(i):\n",
    "        newList.append(i)\n",
    "print(newList)"
   ]
  },
  {
   "cell_type": "code",
   "execution_count": null,
   "metadata": {},
   "outputs": [
    {
     "name": "stdout",
     "output_type": "stream",
     "text": [
      "[1, 1, 1, 2, 2, 2, 2, 2, 2, 2, 2, 3, 3, 3, 3, 3, 3, 3, 3, 3, 3, 4, 4, 4, 4, 4, 4, 7, 7, 7, 7, 7, 7, 7, 7, 7, 9, 9, 9, 9, 9, 9, 9, 9, 9, 9, 9, 15, 15, 15, 15, 15, 15, 15, 15, 15, 15, 15, 15, 15, 15, 15, 15, 15]\n"
     ]
    }
   ],
   "source": [
    "# list32\n",
    "newList.extend(list1)\n",
    "sortedNewList=newList\n",
    "sortedNewList.sort()\n",
    "print(sortedNewList)"
   ]
  },
  {
   "cell_type": "code",
   "execution_count": null,
   "metadata": {},
   "outputs": [
    {
     "name": "stdout",
     "output_type": "stream",
     "text": [
      "1\n",
      "2\n"
     ]
    }
   ],
   "source": [
    "# list33\n",
    "for i in range(len(list1)):\n",
    "    if(list1[i]==element1):\n",
    "        print(i)\n"
   ]
  },
  {
   "cell_type": "code",
   "execution_count": null,
   "metadata": {},
   "outputs": [
    {
     "name": "stdout",
     "output_type": "stream",
     "text": [
      "[15, 9, 7, 4, 3, 3, 2, 2, 1]\n"
     ]
    }
   ],
   "source": [
    "# list34\n",
    "list2=sorted(list1, reverse=True)\n",
    "print(list2)"
   ]
  },
  {
   "cell_type": "code",
   "execution_count": null,
   "metadata": {},
   "outputs": [],
   "source": [
    "# list35\n",
    "# a=int(input(\"Enter beginning of range: \"))\n",
    "# b=int(input(\"Enter end of range: \"))\n",
    "newRangedList=list()\n",
    "for i in range(a,b,1):\n",
    "    newRangedList.append(i)\n",
    "print(newRangedList)"
   ]
  },
  {
   "cell_type": "code",
   "execution_count": null,
   "metadata": {},
   "outputs": [
    {
     "name": "stdout",
     "output_type": "stream",
     "text": [
      "[1, 2, 3, 4, 5, 6, 7]\n",
      "7\n"
     ]
    }
   ],
   "source": [
    "# list36\n",
    "print(list1)\n",
    "positiveNumbers=0\n",
    "for i in list1:\n",
    "    if(i>=0):\n",
    "        positiveNumbers+=i\n",
    "print(positiveNumbers)"
   ]
  },
  {
   "cell_type": "code",
   "execution_count": null,
   "metadata": {},
   "outputs": [],
   "source": [
    "# list37\n",
    "negativeNumberSum=0\n",
    "for i in list1:\n",
    "    if(i<0):\n",
    "        negativeNumberSum+=i\n",
    "print(negativeNumberSum)"
   ]
  },
  {
   "cell_type": "code",
   "execution_count": null,
   "metadata": {},
   "outputs": [],
   "source": [
    "# list38\n",
    "reversedList=list1.reverse()\n",
    "if(reversedList==list1):\n",
    "    print(\"List is palindrome\")\n",
    "else:\n",
    "    print(\"List is not palindrome\")"
   ]
  },
  {
   "cell_type": "code",
   "execution_count": null,
   "metadata": {},
   "outputs": [
    {
     "ename": "TypeError",
     "evalue": "'int' object is not iterable",
     "output_type": "error",
     "traceback": [
      "\u001b[31m---------------------------------------------------------------------------\u001b[39m",
      "\u001b[31mTypeError\u001b[39m                                 Traceback (most recent call last)",
      "\u001b[36mCell\u001b[39m\u001b[36m \u001b[39m\u001b[32mIn[177]\u001b[39m\u001b[32m, line 8\u001b[39m\n\u001b[32m      6\u001b[39m \u001b[38;5;28;01mif\u001b[39;00m(j==specifiedNumber):\n\u001b[32m      7\u001b[39m     nestedList.append(newList)\n\u001b[32m----> \u001b[39m\u001b[32m8\u001b[39m     newList=\u001b[38;5;28;43mlist\u001b[39;49m\u001b[43m(\u001b[49m\u001b[43mi\u001b[49m\u001b[43m)\u001b[49m\n\u001b[32m      9\u001b[39m     j=\u001b[32m0\u001b[39m\n\u001b[32m     10\u001b[39m \u001b[38;5;28;01melse\u001b[39;00m:\n",
      "\u001b[31mTypeError\u001b[39m: 'int' object is not iterable"
     ]
    }
   ],
   "source": [
    "# list39\n",
    "nestedList=list()\n",
    "specifiedNumber=3\n",
    "j=0\n",
    "for i in list1:\n",
    "    if(j==specifiedNumber):\n",
    "        nestedList.append(newList)\n",
    "        newList=list(i)\n",
    "        j=0\n",
    "    else:\n",
    "        newList.append(i)\n",
    "        j+=1\n",
    "\n",
    "print(nestedList)"
   ]
  },
  {
   "cell_type": "code",
   "execution_count": null,
   "metadata": {},
   "outputs": [],
   "source": [
    "# list40\n",
    "uniqueList=list()\n",
    "for i in list1:\n",
    "    if((i in uniqueList)==False):\n",
    "        uniqueList.append(i)\n",
    "print(uniqueList)"
   ]
  },
  {
   "cell_type": "markdown",
   "metadata": {},
   "source": [
    "### Tuple tasks"
   ]
  },
  {
   "cell_type": "code",
   "execution_count": 189,
   "metadata": {},
   "outputs": [
    {
     "name": "stdout",
     "output_type": "stream",
     "text": [
      "2\n"
     ]
    }
   ],
   "source": [
    "# tuple1\n",
    "tuple1=(1,2,3,3,4,5,6,7)\n",
    "tuple2=(5,6,7,8,9)\n",
    "occurancesOfElement=0\n",
    "element1=3\n",
    "for i in tuple1:\n",
    "    if(element1==i):\n",
    "        occurancesOfElement+=1\n",
    "print(occurancesOfElement)"
   ]
  },
  {
   "cell_type": "code",
   "execution_count": 190,
   "metadata": {},
   "outputs": [
    {
     "name": "stdout",
     "output_type": "stream",
     "text": [
      "7\n"
     ]
    }
   ],
   "source": [
    "# tuple2\n",
    "print(max(tuple1))"
   ]
  },
  {
   "cell_type": "code",
   "execution_count": 191,
   "metadata": {},
   "outputs": [
    {
     "name": "stdout",
     "output_type": "stream",
     "text": [
      "1\n"
     ]
    }
   ],
   "source": [
    "# tuple3\n",
    "print(min(tuple1))"
   ]
  },
  {
   "cell_type": "code",
   "execution_count": 192,
   "metadata": {},
   "outputs": [
    {
     "name": "stdout",
     "output_type": "stream",
     "text": [
      "Tuple contains the element\n"
     ]
    }
   ],
   "source": [
    "# tuple4\n",
    "if((element1 in tuple1)):\n",
    "    print(\"Tuple contains the element\")\n",
    "else:\n",
    "    print(\"Tuple does not contain the element\")"
   ]
  },
  {
   "cell_type": "code",
   "execution_count": 193,
   "metadata": {},
   "outputs": [
    {
     "name": "stdout",
     "output_type": "stream",
     "text": [
      "1\n"
     ]
    }
   ],
   "source": [
    "# tuple5\n",
    "if(len(tuple1)>0):\n",
    "    print(tuple1[0])\n",
    "else:\n",
    "    print(\"Tuple is empty\")"
   ]
  },
  {
   "cell_type": "code",
   "execution_count": 194,
   "metadata": {},
   "outputs": [
    {
     "name": "stdout",
     "output_type": "stream",
     "text": [
      "7\n"
     ]
    }
   ],
   "source": [
    "# tuple6\n",
    "if(len(tuple1)>0):\n",
    "    print(tuple1[(len(tuple1)-1)])\n",
    "else:\n",
    "    print(\"Tuple is empty\")"
   ]
  },
  {
   "cell_type": "code",
   "execution_count": 195,
   "metadata": {},
   "outputs": [
    {
     "name": "stdout",
     "output_type": "stream",
     "text": [
      "8\n"
     ]
    }
   ],
   "source": [
    "# tuple7\n",
    "print(len(tuple1))"
   ]
  },
  {
   "cell_type": "code",
   "execution_count": 196,
   "metadata": {},
   "outputs": [
    {
     "name": "stdout",
     "output_type": "stream",
     "text": [
      "(1, 2, 3)\n"
     ]
    }
   ],
   "source": [
    "# tuple8\n",
    "slicedTuple=(tuple1[0:3])\n",
    "print(slicedTuple)"
   ]
  },
  {
   "cell_type": "code",
   "execution_count": 205,
   "metadata": {},
   "outputs": [
    {
     "name": "stdout",
     "output_type": "stream",
     "text": [
      "(1, 2, 3, 3, 4, 5, 6, 7, 5, 6, 7, 8, 9)\n"
     ]
    }
   ],
   "source": [
    "# tuple9\n",
    "\n",
    "# newConcatenatedTuple=tuple(tuple1,tuple2)\n",
    "n=list(tuple1)\n",
    "n1=list(tuple2)\n",
    "n.extend(n1)\n",
    "newConcatenatedTuple=tuple(n)\n",
    "print(newConcatenatedTuple)"
   ]
  },
  {
   "cell_type": "code",
   "execution_count": 206,
   "metadata": {},
   "outputs": [
    {
     "name": "stdout",
     "output_type": "stream",
     "text": [
      "Tuple is not empty\n"
     ]
    }
   ],
   "source": [
    "# tuple10\n",
    "if(len(tuple1)>0):\n",
    "    print('Tuple is not empty')\n",
    "else:\n",
    "    print(\"Tuple is empty\")"
   ]
  },
  {
   "cell_type": "code",
   "execution_count": 212,
   "metadata": {},
   "outputs": [
    {
     "name": "stdout",
     "output_type": "stream",
     "text": [
      "2\n",
      "3\n"
     ]
    }
   ],
   "source": [
    "# tuple11\n",
    "type(tuple1)\n",
    "# j=0\n",
    "for i in range(len(tuple1)):\n",
    "    if(tuple1[i]==element1):\n",
    "        print(i)\n",
    "\n",
    "\n"
   ]
  },
  {
   "cell_type": "code",
   "execution_count": 216,
   "metadata": {},
   "outputs": [
    {
     "name": "stdout",
     "output_type": "stream",
     "text": [
      "6\n"
     ]
    }
   ],
   "source": [
    "# tuple12\n",
    "secondLargestTuple=min(tuple1)\n",
    "largestTuple=max(tuple1)\n",
    "for i in range(len(tuple1)):\n",
    "    if(largestTuple!=tuple1[i] and secondLargestTuple<tuple1[i]):\n",
    "        secondLargestTuple=tuple1[i]\n",
    "print(secondLargestTuple)\n"
   ]
  },
  {
   "cell_type": "code",
   "execution_count": 217,
   "metadata": {},
   "outputs": [
    {
     "name": "stdout",
     "output_type": "stream",
     "text": [
      "2\n"
     ]
    }
   ],
   "source": [
    "# tuple13\n",
    "secondSmallestTuple=max(tuple1)\n",
    "smallestTuple=min(tuple1)\n",
    "for i in range(len(tuple1)):\n",
    "    if(smallestTuple!=tuple1[i] and secondSmallestTuple>tuple1[i]):\n",
    "        secondSmallestTuple=tuple1[i]\n",
    "print(secondSmallestTuple)"
   ]
  },
  {
   "cell_type": "code",
   "execution_count": 218,
   "metadata": {},
   "outputs": [
    {
     "name": "stdout",
     "output_type": "stream",
     "text": [
      "(3,)\n"
     ]
    }
   ],
   "source": [
    "# tuple14\n",
    "singalElementTuple=(specifiedNumber,)\n",
    "print(singalElementTuple)"
   ]
  },
  {
   "cell_type": "code",
   "execution_count": 219,
   "metadata": {},
   "outputs": [
    {
     "name": "stdout",
     "output_type": "stream",
     "text": [
      "(1, 2, 3, 4, 5, 6, 7)\n"
     ]
    }
   ],
   "source": [
    "# tuple15\n",
    "list2Tuple=tuple(list1)\n",
    "print(list2Tuple)"
   ]
  },
  {
   "cell_type": "code",
   "execution_count": null,
   "metadata": {},
   "outputs": [
    {
     "name": "stdout",
     "output_type": "stream",
     "text": [
      "(1, 2, 3, 3, 4, 5, 6, 7)\n",
      "Tuple1 is sorted\n"
     ]
    }
   ],
   "source": [
    "# tuple16\n",
    "# print(tuple1)\n",
    "\n",
    "if(tuple(sorted(tuple1))==tuple1):\n",
    "    print(\"Tuple1 is sorted\")\n",
    "else:\n",
    "    print(\"Tuple1 is not sorted\")"
   ]
  },
  {
   "cell_type": "code",
   "execution_count": 230,
   "metadata": {},
   "outputs": [
    {
     "name": "stdout",
     "output_type": "stream",
     "text": [
      "12\n"
     ]
    }
   ],
   "source": [
    "# tuple17\n",
    "hybridTuple=((1,2,3,4),(3,4,6,7),(8,9,10,11),(12,3,4,5),(3,4,5,6))\n",
    "print(max(hybridTuple[specifiedNumber]))\n"
   ]
  },
  {
   "cell_type": "code",
   "execution_count": 231,
   "metadata": {},
   "outputs": [
    {
     "name": "stdout",
     "output_type": "stream",
     "text": [
      "3\n"
     ]
    }
   ],
   "source": [
    "# tuple18\n",
    "# hybridTuple=((1,2,3,4),(3,4,6,7),(8,9,10,11),(12,3,4,5),(3,4,5,6))\n",
    "print(min(hybridTuple[specifiedNumber]))"
   ]
  },
  {
   "cell_type": "code",
   "execution_count": 234,
   "metadata": {},
   "outputs": [
    {
     "name": "stdout",
     "output_type": "stream",
     "text": [
      "(1, 2, 3, 4, 5, 6, 7)\n"
     ]
    }
   ],
   "source": [
    "# tuple19\n",
    "newRemovedOne=list()\n",
    "j=0\n",
    "# print(tuple1)\n",
    "for i in tuple1:\n",
    "    if(i==element1 and j==0):\n",
    "        j+=1\n",
    "    else:\n",
    "        newRemovedOne.append(i)\n",
    "newRemovedTuple=tuple(newRemovedOne)\n",
    "print(newRemovedTuple)"
   ]
  },
  {
   "cell_type": "code",
   "execution_count": null,
   "metadata": {},
   "outputs": [
    {
     "name": "stdout",
     "output_type": "stream",
     "text": [
      "((1,), (2, 2), (3, 3, 3), (3, 3, 3), (4, 4, 4, 4), (5, 5, 5, 5, 5), (6, 6, 6, 6, 6, 6), (7, 7, 7, 7, 7, 7, 7))\n"
     ]
    }
   ],
   "source": [
    "# tuple20\n",
    "newCreatedTup=list()\n",
    "newList=list()\n",
    "for i in tuple1:\n",
    "    for j in range(i):\n",
    "        newList.append(i)\n",
    "    newCreatedTup.append(tuple(newList))\n",
    "    newList.clear()\n",
    "newCreatedTuple=tuple(newCreatedTup)\n",
    "print(newCreatedTuple)"
   ]
  },
  {
   "cell_type": "code",
   "execution_count": null,
   "metadata": {},
   "outputs": [
    {
     "name": "stdout",
     "output_type": "stream",
     "text": [
      "((1, 1, 1), (2, 2, 2), (3, 3, 3), (3, 3, 3), (4, 4, 4), (5, 5, 5), (6, 6, 6), (7, 7, 7))\n"
     ]
    }
   ],
   "source": [
    "# tuple21\n",
    "newCreatedTup=list()\n",
    "for i in tuple1:\n",
    "    for j in range(specifiedNumber):\n",
    "        newList.append(i)\n",
    "    newCreatedTup.append(tuple(newList))\n",
    "    newList.clear()\n",
    "newCreatedTuple=tuple(newCreatedTup)\n",
    "print(newCreatedTuple)"
   ]
  },
  {
   "cell_type": "code",
   "execution_count": 240,
   "metadata": {},
   "outputs": [
    {
     "name": "stdout",
     "output_type": "stream",
     "text": [
      "(1, 2, 3, 4, 5, 6, 7, 8, 9)\n"
     ]
    }
   ],
   "source": [
    "# tuple22\n",
    "a=1\n",
    "b=10\n",
    "newList=list()\n",
    "for i in range(a,(b),1):\n",
    "    newList.append(i)\n",
    "newCreatedTuple=tuple(newList)\n",
    "# newList.clear()\n",
    "print(newCreatedTuple)"
   ]
  },
  {
   "cell_type": "code",
   "execution_count": 241,
   "metadata": {},
   "outputs": [
    {
     "name": "stdout",
     "output_type": "stream",
     "text": [
      "(7, 6, 5, 4, 3, 3, 2, 1)\n"
     ]
    }
   ],
   "source": [
    "# tuple23\n",
    "newList=list(tuple1)\n",
    "newList.reverse()\n",
    "newCreatedTuple=tuple(newList)\n",
    "print(newCreatedTuple)"
   ]
  },
  {
   "cell_type": "code",
   "execution_count": 242,
   "metadata": {},
   "outputs": [
    {
     "name": "stdout",
     "output_type": "stream",
     "text": [
      "tuple is not palindrome\n"
     ]
    }
   ],
   "source": [
    "# tuple24\n",
    "newList=list(tuple1)\n",
    "newList.reverse()\n",
    "if(tuple(newList)==tuple1):\n",
    "    print(\"Tuple is palindrome\")\n",
    "else:\n",
    "    print(\"tuple is not palindrome\")"
   ]
  },
  {
   "cell_type": "code",
   "execution_count": null,
   "metadata": {},
   "outputs": [
    {
     "name": "stdout",
     "output_type": "stream",
     "text": [
      "(1, 2, 3, 3, 4, 5, 6, 7)\n",
      "(1, 2, 3, 4, 5, 6, 7)\n"
     ]
    }
   ],
   "source": [
    "# tuple25\n",
    "newList=list()\n",
    "# print(tuple1)\n",
    "for i in tuple1:\n",
    "    if((i in newList)==False):\n",
    "        newList.append(i)\n",
    "newCreatedTuple=tuple(newList)\n",
    "print(newCreatedTuple)"
   ]
  },
  {
   "cell_type": "markdown",
   "metadata": {},
   "source": [
    "### Set Tasks"
   ]
  },
  {
   "cell_type": "code",
   "execution_count": 286,
   "metadata": {},
   "outputs": [
    {
     "name": "stdout",
     "output_type": "stream",
     "text": [
      "{1, 2, 3, 4, 5, 6, 7, 8, 9, 10}\n"
     ]
    }
   ],
   "source": [
    "# set1\n",
    "set1={1,2,3,4,5,6}\n",
    "set2={5,6,7,8,9,10}\n",
    "newUnionedSet=set1.union(set2)\n",
    "print(newUnionedSet)"
   ]
  },
  {
   "cell_type": "code",
   "execution_count": 287,
   "metadata": {},
   "outputs": [
    {
     "name": "stdout",
     "output_type": "stream",
     "text": [
      "{5, 6}\n"
     ]
    }
   ],
   "source": [
    "# set2\n",
    "commonBoth=set1 & (set2)\n",
    "print(commonBoth)"
   ]
  },
  {
   "cell_type": "code",
   "execution_count": 288,
   "metadata": {},
   "outputs": [
    {
     "name": "stdout",
     "output_type": "stream",
     "text": [
      "{1, 2, 3, 4}\n"
     ]
    }
   ],
   "source": [
    "# set3\n",
    "difference1=set1.difference(set2)\n",
    "print(difference1)"
   ]
  },
  {
   "cell_type": "code",
   "execution_count": 289,
   "metadata": {},
   "outputs": [
    {
     "name": "stdout",
     "output_type": "stream",
     "text": [
      "Set2 is not subset of set1\n"
     ]
    }
   ],
   "source": [
    "# set4\n",
    "if((set2 in set1)==True):\n",
    "    print(\"Set2 is subset of set1\")\n",
    "else:\n",
    "    print(\"Set2 is not subset of set1\")"
   ]
  },
  {
   "cell_type": "code",
   "execution_count": 290,
   "metadata": {},
   "outputs": [
    {
     "name": "stdout",
     "output_type": "stream",
     "text": [
      "Element is in the set\n"
     ]
    }
   ],
   "source": [
    "# set5\n",
    "if((element1 in set1)):\n",
    "    print(\"Element is in the set\")\n",
    "else:\n",
    "    print(\"Element is not in the set\")\n",
    "    "
   ]
  },
  {
   "cell_type": "code",
   "execution_count": 291,
   "metadata": {},
   "outputs": [
    {
     "name": "stdout",
     "output_type": "stream",
     "text": [
      "6\n"
     ]
    }
   ],
   "source": [
    "# set6\n",
    "print(len(set1))"
   ]
  },
  {
   "cell_type": "code",
   "execution_count": 292,
   "metadata": {},
   "outputs": [
    {
     "name": "stdout",
     "output_type": "stream",
     "text": [
      "{1, 2, 3, 4, 5, 6, 7}\n"
     ]
    }
   ],
   "source": [
    "# set7\n",
    "newSet=set(list1)\n",
    "print(newSet)"
   ]
  },
  {
   "cell_type": "code",
   "execution_count": 293,
   "metadata": {},
   "outputs": [
    {
     "name": "stdout",
     "output_type": "stream",
     "text": [
      "{1, 2, 4, 5, 6}\n"
     ]
    }
   ],
   "source": [
    "# set8\n",
    "if((element1 in set1)):\n",
    "    newL=list(set1)\n",
    "    newL.remove(element1)\n",
    "    set1=set(newL)\n",
    "print(set1)"
   ]
  },
  {
   "cell_type": "code",
   "execution_count": null,
   "metadata": {},
   "outputs": [],
   "source": [
    "# set9\n",
    "set2.clear()\n",
    "print(set2)\n"
   ]
  },
  {
   "cell_type": "code",
   "execution_count": 295,
   "metadata": {},
   "outputs": [
    {
     "name": "stdout",
     "output_type": "stream",
     "text": [
      "List is not empty\n"
     ]
    }
   ],
   "source": [
    "# set10\n",
    "if(len(set1)>0):\n",
    "    print(\"List is not empty\")\n",
    "else:\n",
    "    print(\"list is empty\")\n",
    "    "
   ]
  },
  {
   "cell_type": "code",
   "execution_count": 296,
   "metadata": {},
   "outputs": [
    {
     "name": "stdout",
     "output_type": "stream",
     "text": [
      "{1, 2, 4, 7, 8, 9, 10}\n"
     ]
    }
   ],
   "source": [
    "# set11\n",
    "# print(set2)\n",
    "newSet=set1.symmetric_difference(set2)\n",
    "print(newSet)"
   ]
  },
  {
   "cell_type": "code",
   "execution_count": 297,
   "metadata": {},
   "outputs": [
    {
     "name": "stdout",
     "output_type": "stream",
     "text": [
      "{1, 2, 3, 4, 5, 6}\n"
     ]
    }
   ],
   "source": [
    "# set12\n",
    "if((element1 in set1)==False):\n",
    "    newList=list(set1)\n",
    "    newList.append(element1)\n",
    "    set1=set(newList)\n",
    "print(set1)\n"
   ]
  },
  {
   "cell_type": "code",
   "execution_count": 298,
   "metadata": {},
   "outputs": [
    {
     "name": "stdout",
     "output_type": "stream",
     "text": [
      "1\n"
     ]
    }
   ],
   "source": [
    "# set13\n",
    "returnEl=set1.pop()\n",
    "print(returnEl)"
   ]
  },
  {
   "cell_type": "code",
   "execution_count": 299,
   "metadata": {},
   "outputs": [
    {
     "name": "stdout",
     "output_type": "stream",
     "text": [
      "6\n"
     ]
    }
   ],
   "source": [
    "# set14\n",
    "print(max(set1))"
   ]
  },
  {
   "cell_type": "code",
   "execution_count": 300,
   "metadata": {},
   "outputs": [
    {
     "name": "stdout",
     "output_type": "stream",
     "text": [
      "2\n"
     ]
    }
   ],
   "source": [
    "# set15\n",
    "print(min(set1))"
   ]
  },
  {
   "cell_type": "code",
   "execution_count": 303,
   "metadata": {},
   "outputs": [
    {
     "name": "stdout",
     "output_type": "stream",
     "text": [
      "{2, 4, 6}\n"
     ]
    }
   ],
   "source": [
    "# set16\n",
    "evenNumbersList=list()\n",
    "for i in set1:\n",
    "    if(i%2==0):\n",
    "        evenNumbersList.append(i)\n",
    "evenNumbersSet=set(evenNumbersList)\n",
    "print(evenNumbersSet)\n"
   ]
  },
  {
   "cell_type": "code",
   "execution_count": 305,
   "metadata": {},
   "outputs": [
    {
     "name": "stdout",
     "output_type": "stream",
     "text": [
      "{3, 5}\n"
     ]
    }
   ],
   "source": [
    "# set17\n",
    "\n",
    "oddNumbersList=list()\n",
    "for i in set1:\n",
    "    if(i%2!=0):\n",
    "        oddNumbersList.append(i)\n",
    "oddNumbersSet=set(oddNumbersList)\n",
    "print(oddNumbersSet)"
   ]
  },
  {
   "cell_type": "code",
   "execution_count": 306,
   "metadata": {},
   "outputs": [
    {
     "name": "stdout",
     "output_type": "stream",
     "text": [
      "{1, 2, 3, 4, 5, 6, 7, 8, 9}\n"
     ]
    }
   ],
   "source": [
    "# set18\n",
    "a=1\n",
    "b=10\n",
    "newList=list()\n",
    "for i in range(a,b,1):\n",
    "    newList.append(i)\n",
    "newCreatedSet=set(newList)\n",
    "print(newCreatedSet)"
   ]
  },
  {
   "cell_type": "code",
   "execution_count": 307,
   "metadata": {},
   "outputs": [
    {
     "name": "stdout",
     "output_type": "stream",
     "text": [
      "{2, 3, 4, 5, 6, 7, 8, 9, 10}\n"
     ]
    }
   ],
   "source": [
    "# set19\n",
    "\n",
    "newCreatedSet=set1.union(set2)\n",
    "print(newCreatedSet)"
   ]
  },
  {
   "cell_type": "code",
   "execution_count": 308,
   "metadata": {},
   "outputs": [
    {
     "name": "stdout",
     "output_type": "stream",
     "text": [
      "These sets have some elements in common\n"
     ]
    }
   ],
   "source": [
    "# set20\n",
    "difference2=set1.difference(set2)\n",
    "if(len(difference2)>0):\n",
    "    print(\"These sets have some elements in common\")\n",
    "else:\n",
    "    print(\"These sets do not have elements common\")"
   ]
  },
  {
   "cell_type": "code",
   "execution_count": 311,
   "metadata": {},
   "outputs": [
    {
     "name": "stdout",
     "output_type": "stream",
     "text": [
      "[1, 2, 3, 4, 5, 6, 7]\n"
     ]
    }
   ],
   "source": [
    "# set21\n",
    "newSet1=set(list1)\n",
    "list1=list(newSet1)\n",
    "print(list1)"
   ]
  },
  {
   "cell_type": "code",
   "execution_count": 312,
   "metadata": {},
   "outputs": [
    {
     "name": "stdout",
     "output_type": "stream",
     "text": [
      "7\n"
     ]
    }
   ],
   "source": [
    "# set22\n",
    "newCreatedSet=set(list1)\n",
    "print(len(newCreatedSet))"
   ]
  },
  {
   "cell_type": "code",
   "execution_count": 314,
   "metadata": {},
   "outputs": [
    {
     "name": "stdout",
     "output_type": "stream",
     "text": [
      "{56, 30, 87}\n"
     ]
    }
   ],
   "source": [
    "# set23\n",
    "import random\n",
    "newList2=list()\n",
    "for i in range(specifiedNumber):\n",
    "    newList2.append(int(random.random()*100))\n",
    "newSet2=set(newList2)\n",
    "print(newSet2)"
   ]
  },
  {
   "cell_type": "markdown",
   "metadata": {},
   "source": [
    "### Dictionary tasks"
   ]
  },
  {
   "cell_type": "code",
   "execution_count": 315,
   "metadata": {},
   "outputs": [
    {
     "name": "stdout",
     "output_type": "stream",
     "text": [
      "John\n"
     ]
    }
   ],
   "source": [
    "# dictionary1\n",
    "key1='first'\n",
    "dictionary1 = {\n",
    "    'first': \"John\",\n",
    "    'second': 'john@gmail.com',\n",
    "    'third': 50,\n",
    "    'fourth': True\n",
    "}\n",
    "print(dictionary1['first'])"
   ]
  },
  {
   "cell_type": "code",
   "execution_count": null,
   "metadata": {},
   "outputs": [
    {
     "name": "stdout",
     "output_type": "stream",
     "text": [
      "Present\n"
     ]
    }
   ],
   "source": [
    "# dictionary2\n",
    "if((key1 in dictionary1)==True):\n",
    "    print(\"Present\")\n",
    "else:\n",
    "    print(\"Not present\")"
   ]
  },
  {
   "cell_type": "code",
   "execution_count": 317,
   "metadata": {},
   "outputs": [
    {
     "name": "stdout",
     "output_type": "stream",
     "text": [
      "4\n"
     ]
    }
   ],
   "source": [
    "# dictionary3\n",
    "print(len(dictionary1.keys()))"
   ]
  },
  {
   "cell_type": "code",
   "execution_count": 318,
   "metadata": {},
   "outputs": [
    {
     "name": "stdout",
     "output_type": "stream",
     "text": [
      "['first', 'second', 'third', 'fourth']\n"
     ]
    }
   ],
   "source": [
    "# dictionary4\n",
    "keysList=list(dictionary1.keys())\n",
    "print(keysList)"
   ]
  },
  {
   "cell_type": "code",
   "execution_count": 319,
   "metadata": {},
   "outputs": [
    {
     "name": "stdout",
     "output_type": "stream",
     "text": [
      "['John', 'john@gmail.com', 50, True]\n"
     ]
    }
   ],
   "source": [
    "# dictionary5\n",
    "valuesList=list(dictionary1.values())\n",
    "print(valuesList)"
   ]
  },
  {
   "cell_type": "code",
   "execution_count": 320,
   "metadata": {},
   "outputs": [
    {
     "name": "stdout",
     "output_type": "stream",
     "text": [
      "{'first': 'John', 'second': 'john@gmail.com', 'third': 50, 'fourth': True, 'fifth': 'IDk', 'sixth': 'valve', 'seventh': True}\n"
     ]
    }
   ],
   "source": [
    "# dictionary6\n",
    "dictionary2={\n",
    "    'fifth':\"IDk\",\n",
    "    'sixth':\"valve\",\n",
    "    'seventh':True\n",
    "}\n",
    "newDictionary=dictionary1 | dictionary2\n",
    "print(newDictionary)"
   ]
  },
  {
   "cell_type": "code",
   "execution_count": 321,
   "metadata": {},
   "outputs": [
    {
     "name": "stdout",
     "output_type": "stream",
     "text": [
      "{'second': 'john@gmail.com', 'third': 50, 'fourth': True}\n"
     ]
    }
   ],
   "source": [
    "# dictionary7\n",
    "dictionary1.pop(key1)\n",
    "print(dictionary1)"
   ]
  },
  {
   "cell_type": "code",
   "execution_count": 322,
   "metadata": {},
   "outputs": [
    {
     "name": "stdout",
     "output_type": "stream",
     "text": [
      "{}\n"
     ]
    }
   ],
   "source": [
    "# dictionary8\n",
    "newDictionary=dict()\n",
    "print(newDictionary)"
   ]
  },
  {
   "cell_type": "code",
   "execution_count": null,
   "metadata": {},
   "outputs": [
    {
     "name": "stdout",
     "output_type": "stream",
     "text": [
      "Dictionary has some elements\n"
     ]
    }
   ],
   "source": [
    "# dictionary9\n",
    "if(len(dictionary1)>0):\n",
    "    print(\"Dictionary is not empty\")\n",
    "else:\n",
    "    print(\"Dictionary is empty\")\n"
   ]
  },
  {
   "cell_type": "code",
   "execution_count": 327,
   "metadata": {},
   "outputs": [
    {
     "name": "stdout",
     "output_type": "stream",
     "text": [
      "john@gmail.com\n"
     ]
    }
   ],
   "source": [
    "# dictionary10\n",
    "key2=\"second\"\n",
    "if((key2 in dictionary1)):\n",
    "    print(dictionary1.get(key2))\n",
    "else:\n",
    "    print(\"Key does not exist in the dictionary\")"
   ]
  },
  {
   "cell_type": "code",
   "execution_count": 330,
   "metadata": {},
   "outputs": [
    {
     "name": "stdout",
     "output_type": "stream",
     "text": [
      "{'second': 'IDK', 'third': 50, 'fourth': True, 'key2': 'IDK'}\n"
     ]
    }
   ],
   "source": [
    "# dictionary11\n",
    "specifiedValue=\"IDK\"\n",
    "dictionary1[key2]=specifiedValue\n",
    "print(dictionary1)"
   ]
  },
  {
   "cell_type": "code",
   "execution_count": 331,
   "metadata": {},
   "outputs": [
    {
     "name": "stdout",
     "output_type": "stream",
     "text": [
      "0\n"
     ]
    }
   ],
   "source": [
    "# dictionary12\n",
    "newList3=list(dictionary1.items())\n",
    "occurancesOfElement=0\n",
    "for i in newList3:\n",
    "    if(i==specifiedValue):\n",
    "        occurancesOfElement+=1\n",
    "print(occurancesOfElement)"
   ]
  },
  {
   "cell_type": "code",
   "execution_count": 333,
   "metadata": {},
   "outputs": [
    {
     "name": "stdout",
     "output_type": "stream",
     "text": [
      "{'IDK': 'key2', 50: 'third', True: 'fourth'}\n"
     ]
    }
   ],
   "source": [
    "# dictionary13\n",
    "newListKeys=list(dictionary1.keys())\n",
    "newListItems=list(dictionary1.values())\n",
    "newInvertedDictionary=dict()\n",
    "j=0\n",
    "for i in newListItems:\n",
    "    newInvertedDictionary[i]=newListKeys[j]\n",
    "    j+=1\n",
    "print(newInvertedDictionary)"
   ]
  },
  {
   "cell_type": "code",
   "execution_count": 335,
   "metadata": {},
   "outputs": [
    {
     "name": "stdout",
     "output_type": "stream",
     "text": [
      "['second', 'key2']\n"
     ]
    }
   ],
   "source": [
    "# dictionary14\n",
    "newListKeys=list(dictionary1.keys())\n",
    "newListItems=list(dictionary1.values())\n",
    "listOfKeysOfValues=list()\n",
    "j=0\n",
    "for i in newListItems:\n",
    "    if(i==specifiedValue):\n",
    "        listOfKeysOfValues.append(newListKeys[j])\n",
    "\n",
    "    j+=1\n",
    "print(listOfKeysOfValues)"
   ]
  },
  {
   "cell_type": "code",
   "execution_count": 337,
   "metadata": {},
   "outputs": [
    {
     "name": "stdout",
     "output_type": "stream",
     "text": [
      "{'q': 'hey', 'd': 'key', 'l': 'fake', 'k': 'real'}\n"
     ]
    }
   ],
   "source": [
    "# dictionary15\n",
    "list1=[\"q\",\"d\",\"l\",\"k\"]\n",
    "list2=[\"hey\",\"key\",\"fake\",\"real\"]\n",
    "pairedDictionary=dict()\n",
    "for i in range(len(list1)):\n",
    "    pairedDictionary[list1[i]]=list2[i]\n",
    "print(pairedDictionary)"
   ]
  },
  {
   "cell_type": "code",
   "execution_count": 338,
   "metadata": {},
   "outputs": [
    {
     "name": "stdout",
     "output_type": "stream",
     "text": [
      "No,it does not contain dictionary\n"
     ]
    }
   ],
   "source": [
    "# dictionary16\n",
    "b=False\n",
    "for i in dictionary1:\n",
    "    if(type(i)==dict):\n",
    "        b=True\n",
    "if(b):\n",
    "    print('Yes, it contains dictionary')\n",
    "else:\n",
    "    print('No,it does not contain dictionary')\\\n",
    "    "
   ]
  },
  {
   "cell_type": "code",
   "execution_count": 339,
   "metadata": {},
   "outputs": [
    {
     "name": "stdout",
     "output_type": "stream",
     "text": [
      "IDK\n"
     ]
    }
   ],
   "source": [
    "# dictionary17\n",
    "nestedDictionary={\n",
    "    'yes':dictionary1,\n",
    "    'no': dictionary2\n",
    "}\n",
    "print((nestedDictionary['yes'])['second'])"
   ]
  },
  {
   "cell_type": "code",
   "execution_count": 340,
   "metadata": {},
   "outputs": [],
   "source": [
    "# dictionary18\n",
    "from collections import defaultdict, OrderedDict\n",
    "\n",
    "person = defaultdict(list)"
   ]
  },
  {
   "cell_type": "code",
   "execution_count": 341,
   "metadata": {},
   "outputs": [
    {
     "name": "stdout",
     "output_type": "stream",
     "text": [
      "3\n"
     ]
    }
   ],
   "source": [
    "# dictionary19\n",
    "unqiueValues=set(dictionary1.values())\n",
    "print(len(unqiueValues))\n"
   ]
  },
  {
   "cell_type": "code",
   "execution_count": 343,
   "metadata": {},
   "outputs": [
    {
     "name": "stdout",
     "output_type": "stream",
     "text": [
      "{'fourth': True, 'key2': 'IDK', 'second': 'IDK', 'third': 50}\n"
     ]
    }
   ],
   "source": [
    "# dictionary20\n",
    "listKeys=list(dictionary1.keys())\n",
    "listKeys.sort()\n",
    "newDictSortByKeys=dict()\n",
    "for i in listKeys:\n",
    "    newDictSortByKeys[i]=dictionary1[i]\n",
    "print(newDictSortByKeys)\n",
    "\n"
   ]
  },
  {
   "cell_type": "code",
   "execution_count": 348,
   "metadata": {},
   "outputs": [
    {
     "name": "stdout",
     "output_type": "stream",
     "text": [
      "{'l': 'fake', 'q': 'hey', 'd': 'key', 'k': 'real'}\n"
     ]
    }
   ],
   "source": [
    "# dictionary21\n",
    "listItems=list(pairedDictionary.items())\n",
    "listValues=list(pairedDictionary.values())\n",
    "listValues.sort()\n",
    "newDictSortByKeys=dict()\n",
    "for i in listValues:\n",
    "    for j in range(len(listItems)):\n",
    "        if(i==listItems[j][1]):\n",
    "            newDictSortByKeys[listItems[j][0]]=i\n",
    "            break\n",
    "\n",
    "print(newDictSortByKeys)"
   ]
  },
  {
   "cell_type": "code",
   "execution_count": 349,
   "metadata": {},
   "outputs": [
    {
     "name": "stdout",
     "output_type": "stream",
     "text": [
      "{'q': 'k', 'idk': 'llm', 'hugging': 'face'}\n"
     ]
    }
   ],
   "source": [
    "# dictionary24\n",
    "keyValueTuple=(('q','k'),('idk','llm'),('hugging','face'))\n",
    "keyValueDict=dict(keyValueTuple)\n",
    "print(keyValueDict)"
   ]
  },
  {
   "cell_type": "code",
   "execution_count": 354,
   "metadata": {},
   "outputs": [
    {
     "name": "stdout",
     "output_type": "stream",
     "text": [
      "('q', 'k')\n"
     ]
    }
   ],
   "source": [
    "# dictionary25\n",
    "print((tuple(keyValueDict.items()))[0])"
   ]
  }
 ],
 "metadata": {
  "kernelspec": {
   "display_name": "Python 3",
   "language": "python",
   "name": "python3"
  },
  "language_info": {
   "codemirror_mode": {
    "name": "ipython",
    "version": 3
   },
   "file_extension": ".py",
   "mimetype": "text/x-python",
   "name": "python",
   "nbconvert_exporter": "python",
   "pygments_lexer": "ipython3",
   "version": "3.11.9"
  }
 },
 "nbformat": 4,
 "nbformat_minor": 2
}
